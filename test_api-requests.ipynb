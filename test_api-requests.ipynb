{
 "cells": [
  {
   "cell_type": "code",
   "execution_count": 7,
   "metadata": {},
   "outputs": [
    {
     "data": {
      "text/plain": [
       "{'status': '🤙'}"
      ]
     },
     "execution_count": 7,
     "metadata": {},
     "output_type": "execute_result"
    }
   ],
   "source": [
    "import requests\n",
    "\n",
    "# # FastAPI uvicorn URL with port 8000\n",
    "# res = requests.get(\"http://localhost:8000/health\")\n",
    "\n",
    "# Docker container URL since we exposed the port 80\n",
    "\n",
    "api_url = \"http://localhost:8000\"\n",
    "res = requests.get(f\"{api_url}/health\")\n",
    "res.json()"
   ]
  },
  {
   "cell_type": "code",
   "execution_count": 8,
   "metadata": {},
   "outputs": [
    {
     "data": {
      "text/plain": [
       "200"
      ]
     },
     "execution_count": 8,
     "metadata": {},
     "output_type": "execute_result"
    }
   ],
   "source": [
    "res.status_code"
   ]
  },
  {
   "cell_type": "code",
   "execution_count": 9,
   "metadata": {},
   "outputs": [
    {
     "data": {
      "text/plain": [
       "'{\"status\":\"🤙\"}'"
      ]
     },
     "execution_count": 9,
     "metadata": {},
     "output_type": "execute_result"
    }
   ],
   "source": [
    "res.text"
   ]
  },
  {
   "cell_type": "code",
   "execution_count": 10,
   "metadata": {},
   "outputs": [
    {
     "data": {
      "text/plain": [
       "<Response [200]>"
      ]
     },
     "execution_count": 10,
     "metadata": {},
     "output_type": "execute_result"
    }
   ],
   "source": [
    "res = requests.post(f\"{api_url}/sql-invoke\",\n",
    "    json={\n",
    "        \"message\": \"Find albums released by artists who have more than 5 albums\",\n",
    "        \"thread_id\": \"847c6285-8fc9-4560-a83f-4e6285809364\"\n",
    "    }\n",
    ")\n",
    "res"
   ]
  },
  {
   "cell_type": "code",
   "execution_count": 11,
   "metadata": {},
   "outputs": [
    {
     "data": {
      "text/plain": [
       "{'type': 'ai',\n",
       " 'content': \"Here are some albums released by artists who have more than 5 albums:\\n\\n1. **Deep Purple**\\n   - Come Taste The Band\\n   - Deep Purple In Rock\\n   - Fireball\\n   - Knocking at Your Back Door: The Best Of Deep Purple in the 80's\\n   - MK III The Final Concerts [Disc 1]\\n   - Machine Head\\n   - Purpendicular\\n   - Slaves And Masters\\n   - Stormbringer\\n   - The Battle Rages On\\n   - The Final Concerts (Disc 2)\\n\\n2. **Iron Maiden**\\n   - A Matter of Life and Death\\n   - A Real Dead One\\n   - A Real Live One\\n   - Brave New World\\n   - Dance Of Death\\n   - Fear Of The Dark\\n   - Iron Maiden\\n   - Killers\\n   - Live After Death\\n   - Live At Donington 1992 (Disc 1)\\n   - Live At Donington 1992 (Disc 2)\\n   - No Prayer For The Dying\\n   - Piece Of Mind\\n   - Powerslave\\n   - Rock In Rio [CD1]\\n   - Rock In Rio [CD2]\\n   - Seventh Son of a Seventh Son\\n   - Somewhere in Time\\n   - The Number of The Beast\\n   - The X Factor\\n   - Virtual XI\\n\\n3. **Led Zeppelin**\\n   - BBC Sessions [Disc 1] [Live]\\n   - BBC Sessions [Disc 2] [Live]\\n   - Coda\\n   - Houses Of The Holy\\n   - IV\\n   - In Through The Out Door\\n   - Led Zeppelin I\\n   - Led Zeppelin II\\n   - Led Zeppelin III\\n   - Physical Graffiti [Disc 1]\\n   - Physical Graffiti [Disc 2]\\n   - Presence\\n   - The Song Remains The Same (Disc 1)\\n   - The Song Remains The Same (Disc 2)\\n\\n4. **Metallica**\\n   - ...And Justice For All\\n   - Black Album\\n   - Garage Inc. (Disc 1)\\n   - Garage Inc. (Disc 2)\\n\\nThese artists have a significant number of albums in the database.\",\n",
       " 'tool_calls': [],\n",
       " 'tool_call_id': None,\n",
       " 'run_id': '093424d9-3e70-4931-8015-e7764aa647ee',\n",
       " 'original': {'type': 'ai',\n",
       "  'data': {'content': \"Here are some albums released by artists who have more than 5 albums:\\n\\n1. **Deep Purple**\\n   - Come Taste The Band\\n   - Deep Purple In Rock\\n   - Fireball\\n   - Knocking at Your Back Door: The Best Of Deep Purple in the 80's\\n   - MK III The Final Concerts [Disc 1]\\n   - Machine Head\\n   - Purpendicular\\n   - Slaves And Masters\\n   - Stormbringer\\n   - The Battle Rages On\\n   - The Final Concerts (Disc 2)\\n\\n2. **Iron Maiden**\\n   - A Matter of Life and Death\\n   - A Real Dead One\\n   - A Real Live One\\n   - Brave New World\\n   - Dance Of Death\\n   - Fear Of The Dark\\n   - Iron Maiden\\n   - Killers\\n   - Live After Death\\n   - Live At Donington 1992 (Disc 1)\\n   - Live At Donington 1992 (Disc 2)\\n   - No Prayer For The Dying\\n   - Piece Of Mind\\n   - Powerslave\\n   - Rock In Rio [CD1]\\n   - Rock In Rio [CD2]\\n   - Seventh Son of a Seventh Son\\n   - Somewhere in Time\\n   - The Number of The Beast\\n   - The X Factor\\n   - Virtual XI\\n\\n3. **Led Zeppelin**\\n   - BBC Sessions [Disc 1] [Live]\\n   - BBC Sessions [Disc 2] [Live]\\n   - Coda\\n   - Houses Of The Holy\\n   - IV\\n   - In Through The Out Door\\n   - Led Zeppelin I\\n   - Led Zeppelin II\\n   - Led Zeppelin III\\n   - Physical Graffiti [Disc 1]\\n   - Physical Graffiti [Disc 2]\\n   - Presence\\n   - The Song Remains The Same (Disc 1)\\n   - The Song Remains The Same (Disc 2)\\n\\n4. **Metallica**\\n   - ...And Justice For All\\n   - Black Album\\n   - Garage Inc. (Disc 1)\\n   - Garage Inc. (Disc 2)\\n\\nThese artists have a significant number of albums in the database.\",\n",
       "   'additional_kwargs': {},\n",
       "   'response_metadata': {'finish_reason': 'stop',\n",
       "    'model_name': 'gpt-4o-2024-08-06',\n",
       "    'system_fingerprint': 'fp_b705f0c291'},\n",
       "   'type': 'ai',\n",
       "   'name': None,\n",
       "   'id': 'run-3a2f66ff-ff85-4c5d-bb26-40b81935bda9-0',\n",
       "   'example': False,\n",
       "   'tool_calls': [],\n",
       "   'invalid_tool_calls': [],\n",
       "   'usage_metadata': None}},\n",
       " 'additional_kwargs': {}}"
      ]
     },
     "execution_count": 11,
     "metadata": {},
     "output_type": "execute_result"
    }
   ],
   "source": [
    "res.json()"
   ]
  },
  {
   "cell_type": "code",
   "execution_count": 12,
   "metadata": {},
   "outputs": [
    {
     "name": "stdout",
     "output_type": "stream",
     "text": [
      "Here are some albums released by artists who have more than 5 albums:\n",
      "\n",
      "1. **Deep Purple**\n",
      "   - Come Taste The Band\n",
      "   - Deep Purple In Rock\n",
      "   - Fireball\n",
      "   - Knocking at Your Back Door: The Best Of Deep Purple in the 80's\n",
      "   - MK III The Final Concerts [Disc 1]\n",
      "   - Machine Head\n",
      "   - Purpendicular\n",
      "   - Slaves And Masters\n",
      "   - Stormbringer\n",
      "   - The Battle Rages On\n",
      "   - The Final Concerts (Disc 2)\n",
      "\n",
      "2. **Iron Maiden**\n",
      "   - A Matter of Life and Death\n",
      "   - A Real Dead One\n",
      "   - A Real Live One\n",
      "   - Brave New World\n",
      "   - Dance Of Death\n",
      "   - Fear Of The Dark\n",
      "   - Iron Maiden\n",
      "   - Killers\n",
      "   - Live After Death\n",
      "   - Live At Donington 1992 (Disc 1)\n",
      "   - Live At Donington 1992 (Disc 2)\n",
      "   - No Prayer For The Dying\n",
      "   - Piece Of Mind\n",
      "   - Powerslave\n",
      "   - Rock In Rio [CD1]\n",
      "   - Rock In Rio [CD2]\n",
      "   - Seventh Son of a Seventh Son\n",
      "   - Somewhere in Time\n",
      "   - The Number of The Beast\n",
      "   - The X Factor\n",
      "   - Virtual XI\n",
      "\n",
      "3. **Led Zeppelin**\n",
      "   - BBC Sessions [Disc 1] [Live]\n",
      "   - BBC Sessions [Disc 2] [Live]\n",
      "   - Coda\n",
      "   - Houses Of The Holy\n",
      "   - IV\n",
      "   - In Through The Out Door\n",
      "   - Led Zeppelin I\n",
      "   - Led Zeppelin II\n",
      "   - Led Zeppelin III\n",
      "   - Physical Graffiti [Disc 1]\n",
      "   - Physical Graffiti [Disc 2]\n",
      "   - Presence\n",
      "   - The Song Remains The Same (Disc 1)\n",
      "   - The Song Remains The Same (Disc 2)\n",
      "\n",
      "4. **Metallica**\n",
      "   - ...And Justice For All\n",
      "   - Black Album\n",
      "   - Garage Inc. (Disc 1)\n",
      "   - Garage Inc. (Disc 2)\n",
      "\n",
      "These artists have a significant number of albums in the database.\n"
     ]
    }
   ],
   "source": [
    "print(res.json()['content'])"
   ]
  },
  {
   "cell_type": "code",
   "execution_count": 13,
   "metadata": {},
   "outputs": [],
   "source": [
    "def invoke_sql_query(message, thread_id):\n",
    "    try:        \n",
    "        res = requests.post(f\"{api_url}/sql-invoke\",\n",
    "            json={\n",
    "                \"message\": message,\n",
    "                \"thread_id\": thread_id\n",
    "            }\n",
    "        )\n",
    "        print(res.json()[\"content\"])\n",
    "    except Exception as e:\n",
    "        print(e)\n",
    "        "
   ]
  },
  {
   "cell_type": "code",
   "execution_count": 14,
   "metadata": {},
   "outputs": [
    {
     "name": "stdout",
     "output_type": "stream",
     "text": [
      "The total revenue generated from all sales is 2328.6.\n"
     ]
    }
   ],
   "source": [
    "import uuid\n",
    "thread_id = str(uuid.uuid4())\n",
    "invoke_sql_query(\"Can you find the total revenue generated from all sales?\", thread_id)"
   ]
  },
  {
   "cell_type": "code",
   "execution_count": 15,
   "metadata": {},
   "outputs": [
    {
     "name": "stdout",
     "output_type": "stream",
     "text": [
      "The highest-paying customer is Helena Holý, who has spent a total of 49.62.\n"
     ]
    }
   ],
   "source": [
    "invoke_sql_query(\"Who is the highest-paying customer?\", thread_id)"
   ]
  },
  {
   "cell_type": "code",
   "execution_count": 16,
   "metadata": {},
   "outputs": [
    {
     "name": "stdout",
     "output_type": "stream",
     "text": [
      "The most popular track by number of purchases is \"The Trooper,\" with 5 purchases.\n"
     ]
    }
   ],
   "source": [
    "invoke_sql_query(\"What is the most popular track by number of purchases?\", thread_id)"
   ]
  },
  {
   "cell_type": "code",
   "execution_count": 17,
   "metadata": {},
   "outputs": [
    {
     "name": "stdout",
     "output_type": "stream",
     "text": [
      "The top 3 employees who have made the most sales are:\n",
      "\n",
      "1. Jane Peacock with 146 sales.\n",
      "2. Margaret Park with 140 sales.\n",
      "3. Steve Johnson with 126 sales.\n",
      "\n",
      "It seems there are only three employees in the data available.\n"
     ]
    }
   ],
   "source": [
    "invoke_sql_query(\"Who are the top 5 employees who have made the most sales?\", thread_id)"
   ]
  }
 ],
 "metadata": {
  "kernelspec": {
   "display_name": "Python 3",
   "language": "python",
   "name": "python3"
  },
  "language_info": {
   "codemirror_mode": {
    "name": "ipython",
    "version": 3
   },
   "file_extension": ".py",
   "mimetype": "text/x-python",
   "name": "python",
   "nbconvert_exporter": "python",
   "pygments_lexer": "ipython3",
   "version": "3.11.11"
  }
 },
 "nbformat": 4,
 "nbformat_minor": 2
}
