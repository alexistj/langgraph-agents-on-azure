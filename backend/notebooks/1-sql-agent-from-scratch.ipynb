{
 "cells": [
  {
   "cell_type": "code",
   "execution_count": 1,
   "metadata": {},
   "outputs": [
    {
     "data": {
      "text/plain": [
       "True"
      ]
     },
     "execution_count": 1,
     "metadata": {},
     "output_type": "execute_result"
    }
   ],
   "source": [
    "import os, json\n",
    "\n",
    "from dotenv import load_dotenv, find_dotenv\n",
    "load_dotenv(find_dotenv(), override=True)"
   ]
  },
  {
   "cell_type": "code",
   "execution_count": 2,
   "metadata": {},
   "outputs": [
    {
     "name": "stdout",
     "output_type": "stream",
     "text": [
      "sqlite\n",
      "['Album', 'Artist', 'Customer', 'Employee', 'Genre', 'Invoice', 'InvoiceLine', 'MediaType', 'Playlist', 'PlaylistTrack', 'Track']\n"
     ]
    }
   ],
   "source": [
    "from langchain_community.utilities import SQLDatabase\n",
    "\n",
    "db = SQLDatabase.from_uri(\"sqlite:///chinook.db\")\n",
    "print(db.dialect)\n",
    "print(db.get_usable_table_names())\n"
   ]
  },
  {
   "cell_type": "markdown",
   "metadata": {},
   "source": [
    "## Define tools for the agent\n",
    "\n",
    "We will define a few tools that the agent will use to interact with the database.\n",
    "\n",
    "1. `list_tables_tool`: Fetch the available tables from the database\n",
    "2. `get_schema_tool`: Fetch the DDL for a table\n",
    "3. `db_query_tool`: Execute the query and fetch the results OR return an error message if the query fails\n",
    "\n",
    "For the first two tools, we will grab them from the `SQLDatabaseToolkit`, also available in the `langchain_community` package."
   ]
  },
  {
   "cell_type": "code",
   "execution_count": 7,
   "metadata": {},
   "outputs": [
    {
     "name": "stdout",
     "output_type": "stream",
     "text": [
      "sql_db_query\n",
      "\tInput to this tool is a detailed and correct SQL query, output is a result from the database. If the query is not correct, an error message will be returned. If an error is returned, rewrite the query, check the query, and try again. If you encounter an issue with Unknown column 'xxxx' in 'field list', use sql_db_schema to query the correct table fields.\n",
      "\n",
      "sql_db_schema\n",
      "\tInput to this tool is a comma-separated list of tables, output is the schema and sample rows for those tables. Be sure that the tables actually exist by calling sql_db_list_tables first! Example Input: table1, table2, table3\n",
      "\n",
      "sql_db_list_tables\n",
      "\tInput is an empty string, output is a comma-separated list of tables in the database.\n",
      "\n",
      "sql_db_query_checker\n",
      "\tUse this tool to double check if your query is correct before executing it. Always use this tool before executing a query with sql_db_query!\n",
      "\n"
     ]
    }
   ],
   "source": [
    "from langchain_community.agent_toolkits import SQLDatabaseToolkit\n",
    "from langchain_openai import AzureChatOpenAI\n",
    "\n",
    "llm = AzureChatOpenAI(\n",
    "    api_key=os.environ[\"AZURE_OPENAI_API_KEY\"],\n",
    "    azure_endpoint=os.environ[\"AZURE_OPENAI_ENDPOINT\"],\n",
    "    api_version=os.environ[\"AZURE_OPENAI_API_VERSION\"],   # tool_choice=\"required\" is only supported in 2024-06-01 and later\n",
    "    azure_deployment=\"gpt-4o\",\n",
    "    streaming=True,\n",
    "    temperature=0\n",
    ")\n",
    "\n",
    "toolkit = SQLDatabaseToolkit(db=db, llm=llm)\n",
    "tools = toolkit.get_tools()\n",
    "\n",
    "for tool in tools:\n",
    "    print(tool.name)\n",
    "    print(f\"\\t{tool.description}\\n\")"
   ]
  },
  {
   "cell_type": "code",
   "execution_count": 34,
   "metadata": {},
   "outputs": [],
   "source": [
    "from typing import Any\n",
    "\n",
    "from langchain_core.messages import ToolMessage\n",
    "from langchain_core.runnables import RunnableLambda, RunnableWithFallbacks\n",
    "from langgraph.prebuilt import ToolNode\n",
    "\n",
    "\n",
    "def create_tool_node_with_fallback(tools: list) -> RunnableWithFallbacks[Any, dict]:\n",
    "    \"\"\"\n",
    "    Create a ToolNode with a fallback to handle errors and surface them to the agent.\n",
    "    \"\"\"\n",
    "    return ToolNode(tools).with_fallbacks(\n",
    "        [RunnableLambda(handle_tool_error)], exception_key=\"error\"\n",
    "    )\n",
    "\n",
    "\n",
    "def handle_tool_error(state) -> dict:\n",
    "    error = state.get(\"error\")\n",
    "    tool_calls = state[\"messages\"][-1].tool_calls\n",
    "    return {\n",
    "        \"messages\": [\n",
    "            ToolMessage(\n",
    "                content=f\"Error: {repr(error)}\\n please fix your mistakes.\",\n",
    "                tool_call_id=tc[\"id\"],\n",
    "            )\n",
    "            for tc in tool_calls\n",
    "        ]\n",
    "    }"
   ]
  },
  {
   "cell_type": "code",
   "execution_count": 41,
   "metadata": {},
   "outputs": [
    {
     "data": {
      "text/plain": [
       "[HumanMessage(content='Find albums released by artists who have more than 5 albums', additional_kwargs={}, response_metadata={})]"
      ]
     },
     "execution_count": 41,
     "metadata": {},
     "output_type": "execute_result"
    }
   ],
   "source": [
    "from langchain_core.messages import HumanMessage, AIMessage\n",
    "\n",
    "# user_input = \"Get the first 10 tracks with the genre 'Rock'\"\n",
    "# user_input = \" Finding the top 5 artists with the most albums:\"\n",
    "user_input = \"Find albums released by artists who have more than 5 albums\"\n",
    "\n",
    "messages = [HumanMessage(content=user_input)]\n",
    "messages"
   ]
  },
  {
   "cell_type": "code",
   "execution_count": 42,
   "metadata": {},
   "outputs": [
    {
     "data": {
      "text/plain": [
       "[HumanMessage(content='Find albums released by artists who have more than 5 albums', additional_kwargs={}, response_metadata={}),\n",
       " AIMessage(content='', additional_kwargs={}, response_metadata={}, tool_calls=[{'name': 'sql_db_list_tables', 'args': {}, 'id': 'tool_abcd123', 'type': 'tool_call'}])]"
      ]
     },
     "execution_count": 42,
     "metadata": {},
     "output_type": "execute_result"
    }
   ],
   "source": [
    "ai_msg = AIMessage(\n",
    "                content=\"\",\n",
    "                tool_calls=[\n",
    "                    {\n",
    "                        \"name\": \"sql_db_list_tables\",\n",
    "                        \"args\": {},\n",
    "                        \"id\": \"tool_abcd123\",\n",
    "                    }\n",
    "                ],\n",
    "            )\n",
    "\n",
    "messages.append(ai_msg)\n",
    "messages"
   ]
  },
  {
   "cell_type": "code",
   "execution_count": null,
   "metadata": {},
   "outputs": [
    {
     "name": "stdout",
     "output_type": "stream",
     "text": [
      "Tool Output of listing tables: \n",
      "Album, Artist, Customer, Employee, Genre, Invoice, InvoiceLine, MediaType, Playlist, PlaylistTrack, Track\n",
      "\n",
      "\n"
     ]
    },
    {
     "data": {
      "text/plain": [
       "[HumanMessage(content='Find albums released by artists who have more than 5 albums', additional_kwargs={}, response_metadata={}),\n",
       " AIMessage(content='', additional_kwargs={}, response_metadata={}, tool_calls=[{'name': 'sql_db_list_tables', 'args': {}, 'id': 'tool_abcd123', 'type': 'tool_call'}]),\n",
       " ToolMessage(content='Album, Artist, Customer, Employee, Genre, Invoice, InvoiceLine, MediaType, Playlist, PlaylistTrack, Track', name='sql_db_list_tables', tool_call_id='tool_abcd123')]"
      ]
     },
     "execution_count": 43,
     "metadata": {},
     "output_type": "execute_result"
    }
   ],
   "source": [
    "from langchain_core.messages import ToolMessage\n",
    "\n",
    "tool_calls = messages[-1].tool_calls\n",
    "tool_mapping = {t.name: t for t in tools}\n",
    "\n",
    "for tool_call in tool_calls:\n",
    "    tool = tool_mapping[tool_call[\"name\"].lower()]\n",
    "    tool_output = tool.invoke(tool_call[\"args\"])\n",
    "    print(f\"Tool Output of listing tables: \\n{tool_output}\\n\\n\")\n",
    "    messages.append(ToolMessage(tool_call_id=tool_call['id'], name=tool_call['name'], content=str(tool_output)))\n",
    "messages\n",
    "    "
   ]
  },
  {
   "cell_type": "markdown",
   "metadata": {},
   "source": [
    "## Below Cell does the same as above cell using `ToolNode`"
   ]
  },
  {
   "cell_type": "code",
   "execution_count": null,
   "metadata": {},
   "outputs": [
    {
     "data": {
      "text/plain": [
       "[HumanMessage(content='Find albums released by artists who have more than 5 albums', additional_kwargs={}, response_metadata={}),\n",
       " AIMessage(content='', additional_kwargs={}, response_metadata={}, tool_calls=[{'name': 'sql_db_list_tables', 'args': {}, 'id': 'tool_abcd123', 'type': 'tool_call'}]),\n",
       " [ToolMessage(content='Album, Artist, Customer, Employee, Genre, Invoice, InvoiceLine, MediaType, Playlist, PlaylistTrack, Track', name='sql_db_list_tables', tool_call_id='tool_abcd123')]]"
      ]
     },
     "execution_count": 40,
     "metadata": {},
     "output_type": "execute_result"
    }
   ],
   "source": [
    "# OR\n",
    "# Use ToolNode to invoke the tool\n",
    "\n",
    "list_tables_tool = next(tool for tool in tools if tool.name == \"sql_db_list_tables\")\n",
    "table_names = ToolNode([list_tables_tool]).invoke(messages)\n",
    "messages.append(table_names)\n",
    "messages"
   ]
  },
  {
   "cell_type": "code",
   "execution_count": null,
   "metadata": {},
   "outputs": [
    {
     "data": {
      "text/plain": [
       "[{'name': 'sql_db_schema',\n",
       "  'args': {'table_names': 'Album, Artist'},\n",
       "  'id': 'call_QHGMRX4u0UO4okezjo5KL2YE',\n",
       "  'type': 'tool_call'}]"
      ]
     },
     "execution_count": 44,
     "metadata": {},
     "output_type": "execute_result"
    }
   ],
   "source": [
    "# Get schema relevant to the user input\n",
    "\n",
    "get_schema_tool = next(tool for tool in tools if tool.name == \"sql_db_schema\")\n",
    "model_get_schema  = llm.bind_tools([get_schema_tool])\n",
    "response = model_get_schema.invoke(messages)\n",
    "\n",
    "messages.append(response)\n",
    "messages[-1].tool_calls"
   ]
  },
  {
   "cell_type": "code",
   "execution_count": null,
   "metadata": {},
   "outputs": [
    {
     "name": "stdout",
     "output_type": "stream",
     "text": [
      "Tool Output of listing tables: \n",
      "\n",
      "CREATE TABLE \"Album\" (\n",
      "\t\"AlbumId\" INTEGER NOT NULL, \n",
      "\t\"Title\" NVARCHAR(160) NOT NULL, \n",
      "\t\"ArtistId\" INTEGER NOT NULL, \n",
      "\tPRIMARY KEY (\"AlbumId\"), \n",
      "\tFOREIGN KEY(\"ArtistId\") REFERENCES \"Artist\" (\"ArtistId\")\n",
      ")\n",
      "\n",
      "/*\n",
      "3 rows from Album table:\n",
      "AlbumId\tTitle\tArtistId\n",
      "1\tFor Those About To Rock We Salute You\t1\n",
      "2\tBalls to the Wall\t2\n",
      "3\tRestless and Wild\t2\n",
      "*/\n",
      "\n",
      "\n",
      "CREATE TABLE \"Artist\" (\n",
      "\t\"ArtistId\" INTEGER NOT NULL, \n",
      "\t\"Name\" NVARCHAR(120), \n",
      "\tPRIMARY KEY (\"ArtistId\")\n",
      ")\n",
      "\n",
      "/*\n",
      "3 rows from Artist table:\n",
      "ArtistId\tName\n",
      "1\tAC/DC\n",
      "2\tAccept\n",
      "3\tAerosmith\n",
      "*/\n",
      "\n",
      "\n"
     ]
    },
    {
     "data": {
      "text/plain": [
       "[HumanMessage(content='Find albums released by artists who have more than 5 albums', additional_kwargs={}, response_metadata={}),\n",
       " AIMessage(content='', additional_kwargs={}, response_metadata={}, tool_calls=[{'name': 'sql_db_list_tables', 'args': {}, 'id': 'tool_abcd123', 'type': 'tool_call'}]),\n",
       " ToolMessage(content='Album, Artist, Customer, Employee, Genre, Invoice, InvoiceLine, MediaType, Playlist, PlaylistTrack, Track', name='sql_db_list_tables', tool_call_id='tool_abcd123'),\n",
       " AIMessage(content='', additional_kwargs={'tool_calls': [{'index': 0, 'id': 'call_QHGMRX4u0UO4okezjo5KL2YE', 'function': {'arguments': '{\"table_names\":\"Album, Artist\"}', 'name': 'sql_db_schema'}, 'type': 'function'}]}, response_metadata={'finish_reason': 'tool_calls', 'model_name': 'gpt-4o-2024-08-06', 'system_fingerprint': 'fp_b705f0c291'}, id='run-6cc35f94-d12f-4652-a063-4e65a10a91a2-0', tool_calls=[{'name': 'sql_db_schema', 'args': {'table_names': 'Album, Artist'}, 'id': 'call_QHGMRX4u0UO4okezjo5KL2YE', 'type': 'tool_call'}]),\n",
       " ToolMessage(content='\\nCREATE TABLE \"Album\" (\\n\\t\"AlbumId\" INTEGER NOT NULL, \\n\\t\"Title\" NVARCHAR(160) NOT NULL, \\n\\t\"ArtistId\" INTEGER NOT NULL, \\n\\tPRIMARY KEY (\"AlbumId\"), \\n\\tFOREIGN KEY(\"ArtistId\") REFERENCES \"Artist\" (\"ArtistId\")\\n)\\n\\n/*\\n3 rows from Album table:\\nAlbumId\\tTitle\\tArtistId\\n1\\tFor Those About To Rock We Salute You\\t1\\n2\\tBalls to the Wall\\t2\\n3\\tRestless and Wild\\t2\\n*/\\n\\n\\nCREATE TABLE \"Artist\" (\\n\\t\"ArtistId\" INTEGER NOT NULL, \\n\\t\"Name\" NVARCHAR(120), \\n\\tPRIMARY KEY (\"ArtistId\")\\n)\\n\\n/*\\n3 rows from Artist table:\\nArtistId\\tName\\n1\\tAC/DC\\n2\\tAccept\\n3\\tAerosmith\\n*/', name='sql_db_schema', tool_call_id='call_QHGMRX4u0UO4okezjo5KL2YE')]"
      ]
     },
     "execution_count": 47,
     "metadata": {},
     "output_type": "execute_result"
    }
   ],
   "source": [
    "from langchain_core.messages import ToolMessage\n",
    "\n",
    "tool_calls = messages[-1].tool_calls\n",
    "tool_mapping = {t.name: t for t in tools}\n",
    "\n",
    "for tool_call in tool_calls:\n",
    "    tool = tool_mapping[tool_call[\"name\"].lower()]\n",
    "    tool_output = tool.invoke(tool_call[\"args\"])\n",
    "    print(f\"Tool Output of listing tables: \\n{tool_output}\\n\\n\")\n",
    "    messages.append(ToolMessage(tool_call_id=tool_call['id'], name=tool_call['name'], content=str(tool_output)))\n",
    "messages\n",
    "\n",
    "\n",
    "# # OR\n",
    "\n",
    "# table_names = ToolNode([get_schema_tool]).invoke(messages)\n",
    "# messages.append(table_names)\n",
    "# messages    "
   ]
  },
  {
   "cell_type": "code",
   "execution_count": 15,
   "metadata": {},
   "outputs": [
    {
     "name": "stdout",
     "output_type": "stream",
     "text": [
      "[(1, 'AC/DC'), (2, 'Accept'), (3, 'Aerosmith'), (4, 'Alanis Morissette'), (5, 'Alice In Chains'), (6, 'Antônio Carlos Jobim'), (7, 'Apocalyptica'), (8, 'Audioslave'), (9, 'BackBeat'), (10, 'Billy Cobham')]\n"
     ]
    }
   ],
   "source": [
    "from langchain_core.tools import tool\n",
    "from pydantic import BaseModel, Field\n",
    "\n",
    "class GenerateQuery(BaseModel):\n",
    "    \"\"\"Generate a query based on the question and schema.\"\"\"\n",
    "    query: str = Field(..., description=\"The generated query to run on the sqlite3 database.\")\n",
    "\n",
    "\n",
    "@tool(args_schema=GenerateQuery)\n",
    "def db_query_tool(query: str) -> str:\n",
    "    \"\"\"\n",
    "    Execute a SQL query against the database and get back the result.\n",
    "    If the query is not correct, an error message will be returned.\n",
    "    If an error is returned, rewrite the query, check the query, and try again.\n",
    "    \"\"\"\n",
    "    result = db.run_no_throw(query)\n",
    "    if not result:\n",
    "        return \"Error: Query failed. Please rewrite your query and try again.\"\n",
    "    if result.startswith(\"Error:\"):\n",
    "        return result + \"\\nPlease rewrite your query and try again.\"\n",
    "    return result   # above if condition is not required as \"run_no_throw returns error too\"\n",
    "\n",
    "\n",
    "sql_query = db_query_tool.invoke('SELECT * FROM Artist LIMIT 10;')\n",
    "print(sql_query)"
   ]
  },
  {
   "cell_type": "code",
   "execution_count": null,
   "metadata": {},
   "outputs": [
    {
     "data": {
      "text/plain": [
       "ChatPromptTemplate(input_variables=['messages'], input_types={}, partial_variables={}, messages=[SystemMessagePromptTemplate(prompt=PromptTemplate(input_variables=[], input_types={}, partial_variables={}, template='You are a SQL expert with a strong attention to detail.\\n\\nYou have access to a SQLite database through a db_query_tool that can execute queries on the database.\\nGiven an input question, call the tool by generating a syntactically correct SQLite query without wrapping it in any sql or markers by using \"GenerateQuery\" tool schema definition.\\nIf the query fails, you will be prompted to rewrite the query and try again. \\nIf the query is correct, you will get the result of the query, which you can then use to answer the question.\\n\\n\\n\\nWhen extracting the query argument for the tool, follow the following INSTRUCTIONS:\\n\\n- Unless the user specifies a specific number of examples they wish to obtain, always limit your query to at most 50 results.\\n- ALWAYS ORDER the results by a relevant column to return the most interesting examples in the database, preferrably in descending order of numeric values using DESC.\\n- Never query for all the columns from a specific table, only ask for the relevant columns given the question.\\n- If you get an error while executing a query, you will be prompted to rewrite the query and try again.\\n- NEVER make stuff up if you don\\'t have enough information to answer the query... just say you don\\'t have enough information or ask for clarification.\\n- DO NOT make any DML statements (INSERT, UPDATE, DELETE, DROP etc.) to the database.'), additional_kwargs={}), HumanMessagePromptTemplate(prompt=PromptTemplate(input_variables=['messages'], input_types={}, partial_variables={}, template='{messages}'), additional_kwargs={})])"
      ]
     },
     "execution_count": 16,
     "metadata": {},
     "output_type": "execute_result"
    }
   ],
   "source": [
    "from langchain_core.prompts import ChatPromptTemplate\n",
    "# from pydantic import BaseModel, Field\n",
    "\n",
    "QUERY_GEN_SYSTEM_PROMPT = \"\"\"You are a SQL expert with a strong attention to detail.\n",
    "\n",
    "You have access to a SQLite database through a db_query_tool that can execute queries on the database.\n",
    "Given an input question, call the tool by generating a syntactically correct SQLite query without wrapping it in any sql or markers by using \"GenerateQuery\" tool schema definition.\n",
    "If the query fails, you will be prompted to rewrite the query and try again. \n",
    "If the query is correct, you will get the result of the query, which you can then use to answer the question.\n",
    "\n",
    "When extracting the query argument for the tool, follow the following INSTRUCTIONS:\n",
    "\n",
    "- Unless the user specifies a specific number of examples they wish to obtain, always limit your query to at most 50 results.\n",
    "- ALWAYS ORDER the results by a relevant column to return the most interesting examples in the database, preferrably in descending order of numeric values using DESC.\n",
    "- Never query for all the columns from a specific table, only ask for the relevant columns given the question.\n",
    "- If you get an error while executing a query, you will be prompted to rewrite the query and try again.\n",
    "- NEVER make stuff up if you don't have enough information to answer the query... just say you don't have enough information or ask for clarification.\n",
    "- DO NOT make any DML statements (INSERT, UPDATE, DELETE, DROP etc.) to the database.\"\"\"\n",
    "    \n",
    "    \n",
    "query_gen_prompt = ChatPromptTemplate.from_messages(\n",
    "    [(\"system\", QUERY_GEN_SYSTEM_PROMPT), (\"human\", \"{messages}\")]\n",
    ")\n",
    "query_gen_prompt"
   ]
  },
  {
   "cell_type": "code",
   "execution_count": 18,
   "metadata": {},
   "outputs": [
    {
     "name": "stdout",
     "output_type": "stream",
     "text": [
      "content='' additional_kwargs={'tool_calls': [{'index': 0, 'id': 'call_Jlf7VIUAoRWLx5jtxnzIyy6c', 'function': {'arguments': '{\"query\":\"SELECT Artist.Name, Album.Title FROM Artist JOIN Album ON Artist.ArtistId = Album.ArtistId WHERE Artist.ArtistId IN (SELECT ArtistId FROM Album GROUP BY ArtistId HAVING COUNT(AlbumId) > 5) ORDER BY Artist.Name, Album.Title LIMIT 50\"}', 'name': 'db_query_tool'}, 'type': 'function'}]} response_metadata={'finish_reason': 'tool_calls', 'model_name': 'gpt-4o-2024-08-06', 'system_fingerprint': 'fp_b705f0c291'} id='run-355bbe21-b4e4-4bd1-993d-f3ef79227ecc-0' tool_calls=[{'name': 'db_query_tool', 'args': {'query': 'SELECT Artist.Name, Album.Title FROM Artist JOIN Album ON Artist.ArtistId = Album.ArtistId WHERE Artist.ArtistId IN (SELECT ArtistId FROM Album GROUP BY ArtistId HAVING COUNT(AlbumId) > 5) ORDER BY Artist.Name, Album.Title LIMIT 50'}, 'id': 'call_Jlf7VIUAoRWLx5jtxnzIyy6c', 'type': 'tool_call'}]\n"
     ]
    },
    {
     "data": {
      "text/plain": [
       "[{'name': 'db_query_tool',\n",
       "  'args': {'query': 'SELECT Artist.Name, Album.Title FROM Artist JOIN Album ON Artist.ArtistId = Album.ArtistId WHERE Artist.ArtistId IN (SELECT ArtistId FROM Album GROUP BY ArtistId HAVING COUNT(AlbumId) > 5) ORDER BY Artist.Name, Album.Title LIMIT 50'},\n",
       "  'id': 'call_Jlf7VIUAoRWLx5jtxnzIyy6c',\n",
       "  'type': 'tool_call'}]"
      ]
     },
     "execution_count": 18,
     "metadata": {},
     "output_type": "execute_result"
    }
   ],
   "source": [
    "# query_gen = query_gen_prompt | llm\n",
    "query_gen = query_gen_prompt | llm.bind_tools([db_query_tool])\n",
    "\n",
    "query_response = query_gen.invoke({'messages': messages})\n",
    "print(query_response)\n",
    "query_response.tool_calls"
   ]
  },
  {
   "cell_type": "code",
   "execution_count": 20,
   "metadata": {},
   "outputs": [
    {
     "data": {
      "text/plain": [
       "[HumanMessage(content='Find albums released by artists who have more than 5 albums', additional_kwargs={}, response_metadata={}),\n",
       " AIMessage(content='', additional_kwargs={}, response_metadata={}, tool_calls=[{'name': 'sql_db_list_tables', 'args': {}, 'id': 'tool_abcd123', 'type': 'tool_call'}]),\n",
       " ToolMessage(content='Album, Artist, Customer, Employee, Genre, Invoice, InvoiceLine, MediaType, Playlist, PlaylistTrack, Track', name='sql_db_list_tables', tool_call_id='tool_abcd123'),\n",
       " AIMessage(content='', additional_kwargs={'tool_calls': [{'index': 0, 'id': 'call_wjlGipEw60973ezMtcoV1VjK', 'function': {'arguments': '{\"table_names\":\"Album, Artist\"}', 'name': 'sql_db_schema'}, 'type': 'function'}]}, response_metadata={'finish_reason': 'tool_calls', 'model_name': 'gpt-4o-2024-08-06', 'system_fingerprint': 'fp_b705f0c291'}, id='run-edef5e55-ff74-4b8b-a4d8-cce8abca8220-0', tool_calls=[{'name': 'sql_db_schema', 'args': {'table_names': 'Album, Artist'}, 'id': 'call_wjlGipEw60973ezMtcoV1VjK', 'type': 'tool_call'}]),\n",
       " ToolMessage(content='\\nCREATE TABLE \"Album\" (\\n\\t\"AlbumId\" INTEGER NOT NULL, \\n\\t\"Title\" NVARCHAR(160) NOT NULL, \\n\\t\"ArtistId\" INTEGER NOT NULL, \\n\\tPRIMARY KEY (\"AlbumId\"), \\n\\tFOREIGN KEY(\"ArtistId\") REFERENCES \"Artist\" (\"ArtistId\")\\n)\\n\\n/*\\n3 rows from Album table:\\nAlbumId\\tTitle\\tArtistId\\n1\\tFor Those About To Rock We Salute You\\t1\\n2\\tBalls to the Wall\\t2\\n3\\tRestless and Wild\\t2\\n*/\\n\\n\\nCREATE TABLE \"Artist\" (\\n\\t\"ArtistId\" INTEGER NOT NULL, \\n\\t\"Name\" NVARCHAR(120), \\n\\tPRIMARY KEY (\"ArtistId\")\\n)\\n\\n/*\\n3 rows from Artist table:\\nArtistId\\tName\\n1\\tAC/DC\\n2\\tAccept\\n3\\tAerosmith\\n*/', name='sql_db_schema', tool_call_id='call_wjlGipEw60973ezMtcoV1VjK'),\n",
       " AIMessage(content='', additional_kwargs={'tool_calls': [{'index': 0, 'id': 'call_Jlf7VIUAoRWLx5jtxnzIyy6c', 'function': {'arguments': '{\"query\":\"SELECT Artist.Name, Album.Title FROM Artist JOIN Album ON Artist.ArtistId = Album.ArtistId WHERE Artist.ArtistId IN (SELECT ArtistId FROM Album GROUP BY ArtistId HAVING COUNT(AlbumId) > 5) ORDER BY Artist.Name, Album.Title LIMIT 50\"}', 'name': 'db_query_tool'}, 'type': 'function'}]}, response_metadata={'finish_reason': 'tool_calls', 'model_name': 'gpt-4o-2024-08-06', 'system_fingerprint': 'fp_b705f0c291'}, id='run-355bbe21-b4e4-4bd1-993d-f3ef79227ecc-0', tool_calls=[{'name': 'db_query_tool', 'args': {'query': 'SELECT Artist.Name, Album.Title FROM Artist JOIN Album ON Artist.ArtistId = Album.ArtistId WHERE Artist.ArtistId IN (SELECT ArtistId FROM Album GROUP BY ArtistId HAVING COUNT(AlbumId) > 5) ORDER BY Artist.Name, Album.Title LIMIT 50'}, 'id': 'call_Jlf7VIUAoRWLx5jtxnzIyy6c', 'type': 'tool_call'}])]"
      ]
     },
     "execution_count": 20,
     "metadata": {},
     "output_type": "execute_result"
    }
   ],
   "source": [
    "messages.append(query_response)\n",
    "messages"
   ]
  },
  {
   "cell_type": "code",
   "execution_count": 21,
   "metadata": {},
   "outputs": [
    {
     "data": {
      "text/plain": [
       "[ToolMessage(content='[(\\'Deep Purple\\', \\'Come Taste The Band\\'), (\\'Deep Purple\\', \\'Deep Purple In Rock\\'), (\\'Deep Purple\\', \\'Fireball\\'), (\\'Deep Purple\\', \"Knocking at Your Back Door: The Best Of Deep Purple in the 80\\'s\"), (\\'Deep Purple\\', \\'MK III The Final Concerts [Disc 1]\\'), (\\'Deep Purple\\', \\'Machine Head\\'), (\\'Deep Purple\\', \\'Purpendicular\\'), (\\'Deep Purple\\', \\'Slaves And Masters\\'), (\\'Deep Purple\\', \\'Stormbringer\\'), (\\'Deep Purple\\', \\'The Battle Rages On\\'), (\\'Deep Purple\\', \\'The Final Concerts (Disc 2)\\'), (\\'Iron Maiden\\', \\'A Matter of Life and Death\\'), (\\'Iron Maiden\\', \\'A Real Dead One\\'), (\\'Iron Maiden\\', \\'A Real Live One\\'), (\\'Iron Maiden\\', \\'Brave New World\\'), (\\'Iron Maiden\\', \\'Dance Of Death\\'), (\\'Iron Maiden\\', \\'Fear Of The Dark\\'), (\\'Iron Maiden\\', \\'Iron Maiden\\'), (\\'Iron Maiden\\', \\'Killers\\'), (\\'Iron Maiden\\', \\'Live After Death\\'), (\\'Iron Maiden\\', \\'Live At Donington 1992 (Disc 1)\\'), (\\'Iron Maiden\\', \\'Live At Donington 1992 (Disc 2)\\'), (\\'Iron Maiden\\', \\'No Prayer For The Dying\\'), (\\'Iron Maiden\\', \\'Piece Of Mind\\'), (\\'Iron Maiden\\', \\'Powerslave\\'), (\\'Iron Maiden\\', \\'Rock In Rio [CD1]\\'), (\\'Iron Maiden\\', \\'Rock In Rio [CD2]\\'), (\\'Iron Maiden\\', \\'Seventh Son of a Seventh Son\\'), (\\'Iron Maiden\\', \\'Somewhere in Time\\'), (\\'Iron Maiden\\', \\'The Number of The Beast\\'), (\\'Iron Maiden\\', \\'The X Factor\\'), (\\'Iron Maiden\\', \\'Virtual XI\\'), (\\'Led Zeppelin\\', \\'BBC Sessions [Disc 1] [Live]\\'), (\\'Led Zeppelin\\', \\'BBC Sessions [Disc 2] [Live]\\'), (\\'Led Zeppelin\\', \\'Coda\\'), (\\'Led Zeppelin\\', \\'Houses Of The Holy\\'), (\\'Led Zeppelin\\', \\'IV\\'), (\\'Led Zeppelin\\', \\'In Through The Out Door\\'), (\\'Led Zeppelin\\', \\'Led Zeppelin I\\'), (\\'Led Zeppelin\\', \\'Led Zeppelin II\\'), (\\'Led Zeppelin\\', \\'Led Zeppelin III\\'), (\\'Led Zeppelin\\', \\'Physical Graffiti [Disc 1]\\'), (\\'Led Zeppelin\\', \\'Physical Graffiti [Disc 2]\\'), (\\'Led Zeppelin\\', \\'Presence\\'), (\\'Led Zeppelin\\', \\'The Song Remains The Same (Disc 1)\\'), (\\'Led Zeppelin\\', \\'The Song Remains The Same (Disc 2)\\'), (\\'Metallica\\', \\'...And Justice For All\\'), (\\'Metallica\\', \\'Black Album\\'), (\\'Metallica\\', \\'Garage Inc. (Disc 1)\\'), (\\'Metallica\\', \\'Garage Inc. (Disc 2)\\')]', name='db_query_tool', tool_call_id='call_Jlf7VIUAoRWLx5jtxnzIyy6c')]"
      ]
     },
     "execution_count": 21,
     "metadata": {},
     "output_type": "execute_result"
    }
   ],
   "source": [
    "from langgraph.prebuilt import ToolNode\n",
    "\n",
    "query_tool_node = ToolNode([db_query_tool])\n",
    "db_result = query_tool_node.invoke(messages)\n",
    "db_result"
   ]
  },
  {
   "cell_type": "code",
   "execution_count": 25,
   "metadata": {},
   "outputs": [
    {
     "data": {
      "text/plain": [
       "[HumanMessage(content='Find albums released by artists who have more than 5 albums', additional_kwargs={}, response_metadata={}),\n",
       " AIMessage(content='', additional_kwargs={}, response_metadata={}, tool_calls=[{'name': 'sql_db_list_tables', 'args': {}, 'id': 'tool_abcd123', 'type': 'tool_call'}]),\n",
       " ToolMessage(content='Album, Artist, Customer, Employee, Genre, Invoice, InvoiceLine, MediaType, Playlist, PlaylistTrack, Track', name='sql_db_list_tables', tool_call_id='tool_abcd123'),\n",
       " AIMessage(content='', additional_kwargs={'tool_calls': [{'index': 0, 'id': 'call_wjlGipEw60973ezMtcoV1VjK', 'function': {'arguments': '{\"table_names\":\"Album, Artist\"}', 'name': 'sql_db_schema'}, 'type': 'function'}]}, response_metadata={'finish_reason': 'tool_calls', 'model_name': 'gpt-4o-2024-08-06', 'system_fingerprint': 'fp_b705f0c291'}, id='run-edef5e55-ff74-4b8b-a4d8-cce8abca8220-0', tool_calls=[{'name': 'sql_db_schema', 'args': {'table_names': 'Album, Artist'}, 'id': 'call_wjlGipEw60973ezMtcoV1VjK', 'type': 'tool_call'}]),\n",
       " ToolMessage(content='\\nCREATE TABLE \"Album\" (\\n\\t\"AlbumId\" INTEGER NOT NULL, \\n\\t\"Title\" NVARCHAR(160) NOT NULL, \\n\\t\"ArtistId\" INTEGER NOT NULL, \\n\\tPRIMARY KEY (\"AlbumId\"), \\n\\tFOREIGN KEY(\"ArtistId\") REFERENCES \"Artist\" (\"ArtistId\")\\n)\\n\\n/*\\n3 rows from Album table:\\nAlbumId\\tTitle\\tArtistId\\n1\\tFor Those About To Rock We Salute You\\t1\\n2\\tBalls to the Wall\\t2\\n3\\tRestless and Wild\\t2\\n*/\\n\\n\\nCREATE TABLE \"Artist\" (\\n\\t\"ArtistId\" INTEGER NOT NULL, \\n\\t\"Name\" NVARCHAR(120), \\n\\tPRIMARY KEY (\"ArtistId\")\\n)\\n\\n/*\\n3 rows from Artist table:\\nArtistId\\tName\\n1\\tAC/DC\\n2\\tAccept\\n3\\tAerosmith\\n*/', name='sql_db_schema', tool_call_id='call_wjlGipEw60973ezMtcoV1VjK'),\n",
       " AIMessage(content='', additional_kwargs={'tool_calls': [{'index': 0, 'id': 'call_Jlf7VIUAoRWLx5jtxnzIyy6c', 'function': {'arguments': '{\"query\":\"SELECT Artist.Name, Album.Title FROM Artist JOIN Album ON Artist.ArtistId = Album.ArtistId WHERE Artist.ArtistId IN (SELECT ArtistId FROM Album GROUP BY ArtistId HAVING COUNT(AlbumId) > 5) ORDER BY Artist.Name, Album.Title LIMIT 50\"}', 'name': 'db_query_tool'}, 'type': 'function'}]}, response_metadata={'finish_reason': 'tool_calls', 'model_name': 'gpt-4o-2024-08-06', 'system_fingerprint': 'fp_b705f0c291'}, id='run-355bbe21-b4e4-4bd1-993d-f3ef79227ecc-0', tool_calls=[{'name': 'db_query_tool', 'args': {'query': 'SELECT Artist.Name, Album.Title FROM Artist JOIN Album ON Artist.ArtistId = Album.ArtistId WHERE Artist.ArtistId IN (SELECT ArtistId FROM Album GROUP BY ArtistId HAVING COUNT(AlbumId) > 5) ORDER BY Artist.Name, Album.Title LIMIT 50'}, 'id': 'call_Jlf7VIUAoRWLx5jtxnzIyy6c', 'type': 'tool_call'}]),\n",
       " [ToolMessage(content='[(\\'Deep Purple\\', \\'Come Taste The Band\\'), (\\'Deep Purple\\', \\'Deep Purple In Rock\\'), (\\'Deep Purple\\', \\'Fireball\\'), (\\'Deep Purple\\', \"Knocking at Your Back Door: The Best Of Deep Purple in the 80\\'s\"), (\\'Deep Purple\\', \\'MK III The Final Concerts [Disc 1]\\'), (\\'Deep Purple\\', \\'Machine Head\\'), (\\'Deep Purple\\', \\'Purpendicular\\'), (\\'Deep Purple\\', \\'Slaves And Masters\\'), (\\'Deep Purple\\', \\'Stormbringer\\'), (\\'Deep Purple\\', \\'The Battle Rages On\\'), (\\'Deep Purple\\', \\'The Final Concerts (Disc 2)\\'), (\\'Iron Maiden\\', \\'A Matter of Life and Death\\'), (\\'Iron Maiden\\', \\'A Real Dead One\\'), (\\'Iron Maiden\\', \\'A Real Live One\\'), (\\'Iron Maiden\\', \\'Brave New World\\'), (\\'Iron Maiden\\', \\'Dance Of Death\\'), (\\'Iron Maiden\\', \\'Fear Of The Dark\\'), (\\'Iron Maiden\\', \\'Iron Maiden\\'), (\\'Iron Maiden\\', \\'Killers\\'), (\\'Iron Maiden\\', \\'Live After Death\\'), (\\'Iron Maiden\\', \\'Live At Donington 1992 (Disc 1)\\'), (\\'Iron Maiden\\', \\'Live At Donington 1992 (Disc 2)\\'), (\\'Iron Maiden\\', \\'No Prayer For The Dying\\'), (\\'Iron Maiden\\', \\'Piece Of Mind\\'), (\\'Iron Maiden\\', \\'Powerslave\\'), (\\'Iron Maiden\\', \\'Rock In Rio [CD1]\\'), (\\'Iron Maiden\\', \\'Rock In Rio [CD2]\\'), (\\'Iron Maiden\\', \\'Seventh Son of a Seventh Son\\'), (\\'Iron Maiden\\', \\'Somewhere in Time\\'), (\\'Iron Maiden\\', \\'The Number of The Beast\\'), (\\'Iron Maiden\\', \\'The X Factor\\'), (\\'Iron Maiden\\', \\'Virtual XI\\'), (\\'Led Zeppelin\\', \\'BBC Sessions [Disc 1] [Live]\\'), (\\'Led Zeppelin\\', \\'BBC Sessions [Disc 2] [Live]\\'), (\\'Led Zeppelin\\', \\'Coda\\'), (\\'Led Zeppelin\\', \\'Houses Of The Holy\\'), (\\'Led Zeppelin\\', \\'IV\\'), (\\'Led Zeppelin\\', \\'In Through The Out Door\\'), (\\'Led Zeppelin\\', \\'Led Zeppelin I\\'), (\\'Led Zeppelin\\', \\'Led Zeppelin II\\'), (\\'Led Zeppelin\\', \\'Led Zeppelin III\\'), (\\'Led Zeppelin\\', \\'Physical Graffiti [Disc 1]\\'), (\\'Led Zeppelin\\', \\'Physical Graffiti [Disc 2]\\'), (\\'Led Zeppelin\\', \\'Presence\\'), (\\'Led Zeppelin\\', \\'The Song Remains The Same (Disc 1)\\'), (\\'Led Zeppelin\\', \\'The Song Remains The Same (Disc 2)\\'), (\\'Metallica\\', \\'...And Justice For All\\'), (\\'Metallica\\', \\'Black Album\\'), (\\'Metallica\\', \\'Garage Inc. (Disc 1)\\'), (\\'Metallica\\', \\'Garage Inc. (Disc 2)\\')]', name='db_query_tool', tool_call_id='call_Jlf7VIUAoRWLx5jtxnzIyy6c')]]"
      ]
     },
     "execution_count": 25,
     "metadata": {},
     "output_type": "execute_result"
    }
   ],
   "source": [
    "messages.append(db_result)\n",
    "messages"
   ]
  },
  {
   "cell_type": "code",
   "execution_count": 26,
   "metadata": {},
   "outputs": [
    {
     "data": {
      "text/markdown": [
       "Here is a list of albums released by artists who have more than 5 albums:\n",
       "\n",
       "**Deep Purple:**\n",
       "- Come Taste The Band\n",
       "- Deep Purple In Rock\n",
       "- Fireball\n",
       "- Knocking at Your Back Door: The Best Of Deep Purple in the 80's\n",
       "- MK III The Final Concerts [Disc 1]\n",
       "- Machine Head\n",
       "- Purpendicular\n",
       "- Slaves And Masters\n",
       "- Stormbringer\n",
       "- The Battle Rages On\n",
       "- The Final Concerts (Disc 2)\n",
       "\n",
       "**Iron Maiden:**\n",
       "- A Matter of Life and Death\n",
       "- A Real Dead One\n",
       "- A Real Live One\n",
       "- Brave New World\n",
       "- Dance Of Death\n",
       "- Fear Of The Dark\n",
       "- Iron Maiden\n",
       "- Killers\n",
       "- Live After Death\n",
       "- Live At Donington 1992 (Disc 1)\n",
       "- Live At Donington 1992 (Disc 2)\n",
       "- No Prayer For The Dying\n",
       "- Piece Of Mind\n",
       "- Powerslave\n",
       "- Rock In Rio [CD1]\n",
       "- Rock In Rio [CD2]\n",
       "- Seventh Son of a Seventh Son\n",
       "- Somewhere in Time\n",
       "- The Number of The Beast\n",
       "- The X Factor\n",
       "- Virtual XI\n",
       "\n",
       "**Led Zeppelin:**\n",
       "- BBC Sessions [Disc 1] [Live]\n",
       "- BBC Sessions [Disc 2] [Live]\n",
       "- Coda\n",
       "- Houses Of The Holy\n",
       "- IV\n",
       "- In Through The Out Door\n",
       "- Led Zeppelin I\n",
       "- Led Zeppelin II\n",
       "- Led Zeppelin III\n",
       "- Physical Graffiti [Disc 1]\n",
       "- Physical Graffiti [Disc 2]\n",
       "- Presence\n",
       "- The Song Remains The Same (Disc 1)\n",
       "- The Song Remains The Same (Disc 2)\n",
       "\n",
       "**Metallica:**\n",
       "- ...And Justice For All\n",
       "- Black Album\n",
       "- Garage Inc. (Disc 1)\n",
       "- Garage Inc. (Disc 2)"
      ],
      "text/plain": [
       "<IPython.core.display.Markdown object>"
      ]
     },
     "metadata": {},
     "output_type": "display_data"
    }
   ],
   "source": [
    "format_system = \"\"\" \n",
    "You will receive a user input and AI response for that input. Please present the response in a readable format for the user.\n",
    "\"\"\"\n",
    "\n",
    "format_prompt = ChatPromptTemplate.from_messages(\n",
    "    [(\"system\", format_system), (\"human\", \"User Input: {user_input}\"), (\"ai\", \"AI Response: {answer}\")]\n",
    ")\n",
    "\n",
    "answer_gen = format_prompt | llm\n",
    "\n",
    "answer = answer_gen.invoke({'user_input': messages[0], 'answer': messages[-1]})\n",
    "\n",
    "# print(answer.content)\n",
    "\n",
    "from IPython.display import Markdown\n",
    "display(Markdown(answer.content))"
   ]
  },
  {
   "cell_type": "markdown",
   "metadata": {},
   "source": [
    "# Define a Graph\n",
    "## Visualize and Run the workflow"
   ]
  },
  {
   "cell_type": "markdown",
   "metadata": {},
   "source": [
    "## Sqlite\n",
    "\n",
    "A good starting point here is the [SqliteSaver checkpointer](https://langchain-ai.github.io/langgraph/concepts/low_level/#checkpointer).\n",
    "\n",
    "Sqlite is a [small, fast, highly popular](https://x.com/karpathy/status/1819490455664685297) SQL database. \n",
    " \n",
    "If we supply `\":memory:\"` it creates an in-memory Sqlite database."
   ]
  },
  {
   "cell_type": "code",
   "execution_count": 27,
   "metadata": {},
   "outputs": [],
   "source": [
    "import sqlite3\n",
    "from langgraph.checkpoint.sqlite import SqliteSaver\n",
    "\n",
    "# # Transient in-memory database. This database exists only in RAM and will be lost once the connection is closed or the program terminates. \n",
    "# conn = sqlite3.connect(\":memory:\", check_same_thread = False)\n",
    "# checkpointer = SqliteSaver(conn)\n",
    "\n",
    "# Save to local db instead of :memory: to persist state \n",
    "db_path = \"checkpointer_db/state.db\"\n",
    "conn = sqlite3.connect(db_path, check_same_thread=False)\n",
    "checkpointer = SqliteSaver(conn)"
   ]
  },
  {
   "cell_type": "code",
   "execution_count": 28,
   "metadata": {},
   "outputs": [],
   "source": [
    "from typing import Annotated, Literal\n",
    "\n",
    "from langchain_core.messages import AIMessage\n",
    "from langchain_openai import AzureChatOpenAI\n",
    "\n",
    "from pydantic import BaseModel, Field\n",
    "from typing_extensions import TypedDict\n",
    "\n",
    "from langgraph.graph import END, StateGraph, START\n",
    "from langgraph.graph.message import AnyMessage, add_messages, MessagesState\n",
    "\n",
    "# MessagesState takes care of this, so we do not need to define this\n",
    "# \n",
    "# class State(TypedDict):\n",
    "#     messages: Annotated[list[AnyMessage], add_messages]"
   ]
  },
  {
   "cell_type": "code",
   "execution_count": 57,
   "metadata": {},
   "outputs": [],
   "source": [
    "# Add a node for the first tool call\n",
    "def list_tables_ai_call(state: MessagesState) -> dict[str, list[AIMessage]]:\n",
    "    return {\n",
    "        \"messages\": [\n",
    "            AIMessage(\n",
    "                content=\"\",\n",
    "                tool_calls=[\n",
    "                    {\n",
    "                        \"name\": \"sql_db_list_tables\",\n",
    "                        \"args\": {},\n",
    "                        \"id\": \"tool_abcd123\",\n",
    "                    }\n",
    "                ],\n",
    "            )\n",
    "        ]\n",
    "    }"
   ]
  },
  {
   "cell_type": "code",
   "execution_count": 67,
   "metadata": {},
   "outputs": [],
   "source": [
    "def get_db_schema(state: MessagesState):  \n",
    "    get_schema_tool = next(tool for tool in tools if tool.name == \"sql_db_schema\")\n",
    "    model_get_schema  = llm.bind_tools([get_schema_tool])\n",
    "    \n",
    "    messages = state[\"messages\"]\n",
    "    db_schema = model_get_schema.invoke(messages)\n",
    "    return {\"messages\": [db_schema]}"
   ]
  },
  {
   "cell_type": "code",
   "execution_count": 68,
   "metadata": {},
   "outputs": [],
   "source": [
    "query_gen = query_gen_prompt | llm.bind_tools([db_query_tool])\n",
    "\n",
    "\n",
    "def query_agent_node(state: MessagesState) -> MessagesState:\n",
    "    messages = state[\"messages\"]\n",
    "    query_response = query_gen.invoke({'messages': messages})\n",
    "    return {\"messages\": [query_response]}"
   ]
  },
  {
   "cell_type": "code",
   "execution_count": 75,
   "metadata": {},
   "outputs": [],
   "source": [
    "def db_tool_node(state: MessagesState):\n",
    "    tool_calls = state[\"messages\"][-1].tool_calls        \n",
    "    tools_mapping = {\"db_query_tool\": db_query_tool}\n",
    "    \n",
    "    results = []        \n",
    "    for tool_call in tool_calls:\n",
    "        print(f\"Calling: {tool_call}\")\n",
    "        if not tool_call['name'] in tools_mapping.keys():     # check for bad tool name from LLM\n",
    "            print(\"\\n ....bad tool name....\")\n",
    "            output = \"bad tool name, retry\"  # instruct LLM to retry if bad\n",
    "        else:\n",
    "            tool = tools_mapping[tool_call[\"name\"].lower()]\n",
    "            output = tool.invoke(tool_call[\"args\"])        \n",
    "        results.append(ToolMessage(tool_call_id=tool_call['id'], name=tool_call['name'], content=str(output)))\n",
    "    # print(f\"Tool Results: {results}\")\n",
    "    state['messages'] = results\n",
    "    return state"
   ]
  },
  {
   "cell_type": "code",
   "execution_count": 78,
   "metadata": {},
   "outputs": [],
   "source": [
    "def tool_check(state: MessagesState) -> Literal[\"query_db\", \"__end__\"]:\n",
    "    messages = state[\"messages\"]\n",
    "    last_message = messages[-1]\n",
    "    \n",
    "    if len(last_message.tool_calls) > 0:\n",
    "        return \"query_db\"\n",
    "    else:\n",
    "        return \"__end__\"\n",
    "    "
   ]
  },
  {
   "cell_type": "code",
   "execution_count": 77,
   "metadata": {},
   "outputs": [],
   "source": [
    "def db_tool_node(state: MessagesState):\n",
    "    tool_calls = state[\"messages\"][-1].tool_calls\n",
    "    \n",
    "    tool_mapping = {\"db_query_tool\": db_query_tool}\n",
    "    results = []\n",
    "    \n",
    "    for tool_call in tool_calls:\n",
    "        print(f\"Calling: {tool_call}\")\n",
    "        if not tool_call['name'] in tool_mapping.keys():     # check for bad tool name from LLM\n",
    "            print(\"\\n ....bad tool name....\")\n",
    "            output = \"bad tool name, retry\"  # instruct LLM to retry if bad\n",
    "        else:\n",
    "            tool = tool_mapping[tool_call[\"name\"].lower()]\n",
    "            output = tool.invoke(tool_call[\"args\"])        \n",
    "        results.append(ToolMessage(tool_call_id=tool_call['id'], name=tool_call['name'], content=str(output)))\n",
    "    state['messages'] = results\n",
    "    return state\n",
    "\n"
   ]
  },
  {
   "cell_type": "code",
   "execution_count": 80,
   "metadata": {},
   "outputs": [
    {
     "data": {
      "image/png": "[encoded data removed]",
      "text/plain": [
       "<IPython.core.display.Image object>"
      ]
     },
     "metadata": {},
     "output_type": "display_data"
    }
   ],
   "source": [
    "# Define a new graph\n",
    "workflow = StateGraph(MessagesState)\n",
    "\n",
    "\n",
    "\n",
    "workflow.add_node(\"list_tables_ai_call\", list_tables_ai_call)\n",
    "workflow.add_node(\n",
    "    \"list_tables_tool\", create_tool_node_with_fallback([list_tables_tool])\n",
    ")\n",
    "\n",
    "workflow.add_node(\"get_relevant_schema\", get_db_schema)\n",
    "workflow.add_node(\"get_schema_tool\", create_tool_node_with_fallback([get_schema_tool]))\n",
    "\n",
    "workflow.add_node(\"query_agent\", query_agent_node)\n",
    "workflow.add_node(\"execute_query\", db_tool_node)\n",
    "\n",
    "\n",
    "\n",
    "workflow.add_edge(START, \"list_tables_ai_call\")\n",
    "workflow.add_edge(\"list_tables_ai_call\", \"list_tables_tool\") \n",
    "workflow.add_edge(\"list_tables_tool\", \"get_relevant_schema\")\n",
    "workflow.add_edge(\"get_relevant_schema\", \"get_schema_tool\")\n",
    "workflow.add_edge(\"get_schema_tool\", \"query_agent\")\n",
    "workflow.add_conditional_edges(\n",
    "    \"query_agent\",\n",
    "    tool_check,\n",
    "    {\"query_db\": \"execute_query\", \"__end__\": END}\n",
    ")\n",
    "workflow.add_edge(\"execute_query\", \"query_agent\")\n",
    "\n",
    "\n",
    "# Compile the workflow into a runnable\n",
    "sql_graph = workflow.compile(checkpointer=checkpointer)\n",
    "\n",
    "from IPython.display import Image, display\n",
    "from langchain_core.runnables.graph import MermaidDrawMethod\n",
    "\n",
    "display(\n",
    "    Image(\n",
    "        sql_graph.get_graph().draw_mermaid_png(\n",
    "            draw_method=MermaidDrawMethod.API,\n",
    "        )\n",
    "    )\n",
    ")"
   ]
  },
  {
   "cell_type": "code",
   "execution_count": null,
   "metadata": {},
   "outputs": [
    {
     "name": "stdout",
     "output_type": "stream",
     "text": [
      "Session ID: 5c45e982-d969-4327-8d3d-df60daedd4e3\n",
      "\n",
      "Calling: {'name': 'db_query_tool', 'args': {'query': 'SELECT Title FROM Album ORDER BY AlbumId DESC LIMIT 50'}, 'id': 'call_OgwFsN49CdTQdtpPS60T6W3P', 'type': 'tool_call'}\n"
     ]
    },
    {
     "data": {
      "text/plain": [
       "[HumanMessage(content='Hi, can you tell me the names of popular albums in the database?', additional_kwargs={}, response_metadata={}, id='86409862-8738-4453-85da-bc3b8083eff5'),\n",
       " AIMessage(content='', additional_kwargs={}, response_metadata={}, id='be5d499f-73f9-465a-9cbb-bbe2c4af3e8e', tool_calls=[{'name': 'sql_db_list_tables', 'args': {}, 'id': 'tool_abcd123', 'type': 'tool_call'}]),\n",
       " ToolMessage(content='Album, Artist, Customer, Employee, Genre, Invoice, InvoiceLine, MediaType, Playlist, PlaylistTrack, Track', name='sql_db_list_tables', id='5e883f97-7dd3-4241-8731-14989da83942', tool_call_id='tool_abcd123'),\n",
       " AIMessage(content='', additional_kwargs={'tool_calls': [{'index': 0, 'id': 'call_6WPDuiR2nIwmsuXDrpHXr6oX', 'function': {'arguments': '{\"table_names\":\"Album\"}', 'name': 'sql_db_schema'}, 'type': 'function'}]}, response_metadata={'finish_reason': 'tool_calls', 'model_name': 'gpt-4o-2024-08-06', 'system_fingerprint': 'fp_b705f0c291'}, id='run-b6829b9d-46d1-4fcb-ac9f-61901976340d-0', tool_calls=[{'name': 'sql_db_schema', 'args': {'table_names': 'Album'}, 'id': 'call_6WPDuiR2nIwmsuXDrpHXr6oX', 'type': 'tool_call'}]),\n",
       " ToolMessage(content='\\nCREATE TABLE \"Album\" (\\n\\t\"AlbumId\" INTEGER NOT NULL, \\n\\t\"Title\" NVARCHAR(160) NOT NULL, \\n\\t\"ArtistId\" INTEGER NOT NULL, \\n\\tPRIMARY KEY (\"AlbumId\"), \\n\\tFOREIGN KEY(\"ArtistId\") REFERENCES \"Artist\" (\"ArtistId\")\\n)\\n\\n/*\\n3 rows from Album table:\\nAlbumId\\tTitle\\tArtistId\\n1\\tFor Those About To Rock We Salute You\\t1\\n2\\tBalls to the Wall\\t2\\n3\\tRestless and Wild\\t2\\n*/', name='sql_db_schema', id='fdebc1bb-f324-4901-ab3c-67604a9fdb77', tool_call_id='call_6WPDuiR2nIwmsuXDrpHXr6oX'),\n",
       " AIMessage(content='', additional_kwargs={'tool_calls': [{'index': 0, 'id': 'call_OgwFsN49CdTQdtpPS60T6W3P', 'function': {'arguments': '{\"query\":\"SELECT Title FROM Album ORDER BY AlbumId DESC LIMIT 50\"}', 'name': 'db_query_tool'}, 'type': 'function'}]}, response_metadata={'finish_reason': 'tool_calls', 'model_name': 'gpt-4o-2024-08-06', 'system_fingerprint': 'fp_b705f0c291'}, id='run-e7bdd581-4b36-4141-8c9a-10aca47f7f81-0', tool_calls=[{'name': 'db_query_tool', 'args': {'query': 'SELECT Title FROM Album ORDER BY AlbumId DESC LIMIT 50'}, 'id': 'call_OgwFsN49CdTQdtpPS60T6W3P', 'type': 'tool_call'}]),\n",
       " ToolMessage(content='[(\\'Koyaanisqatsi (Soundtrack from the Motion Picture)\\',), (\\'Mozart: Chamber Music\\',), (\"Monteverdi: L\\'Orfeo\",), (\"Schubert: The Late String Quartets & String Quintet (3 CD\\'s)\",), (\\'Respighi:Pines of Rome\\',), (\\'Locatelli: Concertos for Violin, Strings and Continuo, Vol. 3\\',), (\\'Great Recordings of the Century - Shubert: Schwanengesang, 4 Lieder\\',), (\"Liszt - 12 Études D\\'Execution Transcendante\",), (\"Great Recordings of the Century: Paganini\\'s 24 Caprices\",), (\\'Nielsen: The Six Symphonies\\',), (\\'Szymanowski: Piano Works, Vol. 1\\',), (\\'Prokofiev: Symphony No.5 & Stravinksy: Le Sacre Du Printemps\\',), (\\'J.S. Bach: Chaconne, Suite in E Minor, Partita in E Major & Prelude, Fugue and Allegro\\',), (\\'Weill: The Seven Deadly Sins\\',), (\\'Purcell: Music for the Queen Mary\\',), (\\'The Ultimate Relexation Album\\',), (\\'Purcell: The Fairy Queen\\',), (\\'Górecki: Symphony No. 3\\',), (\\'South American Getaway\\',), (\\'Charpentier: Divertissements, Airs & Concerts\\',), (\\'Bach: Orchestral Suites Nos. 1 - 4\\',), (\"Mendelssohn: A Midsummer Night\\'s Dream\",), (\\'Bartok: Violin & Viola Concertos\\',), (\"Beethoven: Symphony No. 6 \\'Pastoral\\' Etc.\",), (\\'Carried to Dust (Bonus Track Version)\\',), (\\'Frank\\',), (\\'Back to Black\\',), (\\'Mozart: Symphonies Nos. 40 & 41\\',), (\\'Armada: Music from the Courts of England and Spain\\',), (\\'SCRIABIN: Vers la flamme\\',), (\\'Mozart Gala: Famous Arias\\',), (\\'Grieg: Peer Gynt Suites & Sibelius: Pelléas et Mélisande\\',), (\\'Handel: Music for the Royal Fireworks (Original Version 1749)\\',), (\\'English Renaissance\\',), (\\'Bizet: Carmen Highlights\\',), (\\'Berlioz: Symphonie Fantastique\\',), (\\'Strauss: Waltzes\\',), (\\'Prokofiev: Romeo & Juliet\\',), (\\'Palestrina: Missa Papae Marcelli & Allegri: Miserere\\',), (\"Tchaikovsky: 1812 Festival Overture, Op.49, Capriccio Italien & Beethoven: Wellington\\'s Victory\",), (\\'Adams, John: The Chairman Dances\\',), (\\'Elgar: Cello Concerto & Vaughan Williams: Fantasias\\',), (\\'Great Recordings of the Century - Mahler: Das Lied von der Erde\\',), (\\'Beethoven Piano Sonatas: Moonlight & Pastorale\\',), (\\'Sibelius: Finlandia\\',), (\\'Mascagni: Cavalleria Rusticana\\',), (\\'Chopin: Piano Concertos Nos. 1 & 2\\',), (\\'Bach: The Brandenburg Concertos\\',), (\\'Scheherazade\\',), (\\'Prokofiev: Symphony No.1\\',)]', name='db_query_tool', id='7354ceed-bb8a-45a9-b3aa-810e64a99edc', tool_call_id='call_OgwFsN49CdTQdtpPS60T6W3P'),\n",
       " AIMessage(content=\"Here are some popular album titles from the database:\\n\\n1. Koyaanisqatsi (Soundtrack from the Motion Picture)\\n2. Mozart: Chamber Music\\n3. Monteverdi: L'Orfeo\\n4. Schubert: The Late String Quartets & String Quintet (3 CDs)\\n5. Respighi: Pines of Rome\\n6. Locatelli: Concertos for Violin, Strings and Continuo, Vol. 3\\n7. Great Recordings of the Century - Schubert: Schwanengesang, 4 Lieder\\n8. Liszt - 12 Études D'Execution Transcendante\\n9. Great Recordings of the Century: Paganini's 24 Caprices\\n10. Nielsen: The Six Symphonies\\n\\nIf you need more information or additional titles, feel free to ask!\", additional_kwargs={}, response_metadata={'finish_reason': 'stop', 'model_name': 'gpt-4o-2024-08-06', 'system_fingerprint': 'fp_b705f0c291'}, id='run-75a334a3-4893-4620-abf3-39c3e5fd56c3-0')]"
      ]
     },
     "execution_count": 83,
     "metadata": {},
     "output_type": "execute_result"
    }
   ],
   "source": [
    "import uuid\n",
    "\n",
    "session_id = str(uuid.uuid4())\n",
    "config = {\"configurable\": {\"thread_id\": session_id}}\n",
    "print(f\"Session ID: {session_id}\\n\")\n",
    "\n",
    "from langchain_core.messages import HumanMessage\n",
    "user_input = \"Hi, can you tell me the names of popular albums in the database?\"\n",
    "\n",
    "result = sql_graph.invoke(\n",
    "    {\"messages\": [HumanMessage(content=user_input)]},\n",
    "    config=config\n",
    ")\n",
    "result['messages']"
   ]
  },
  {
   "cell_type": "code",
   "execution_count": 84,
   "metadata": {},
   "outputs": [
    {
     "data": {
      "text/markdown": [
       "Here are some popular album titles from the database:\n",
       "\n",
       "1. Koyaanisqatsi (Soundtrack from the Motion Picture)\n",
       "2. Mozart: Chamber Music\n",
       "3. Monteverdi: L'Orfeo\n",
       "4. Schubert: The Late String Quartets & String Quintet (3 CDs)\n",
       "5. Respighi: Pines of Rome\n",
       "6. Locatelli: Concertos for Violin, Strings and Continuo, Vol. 3\n",
       "7. Great Recordings of the Century - Schubert: Schwanengesang, 4 Lieder\n",
       "8. Liszt - 12 Études D'Execution Transcendante\n",
       "9. Great Recordings of the Century: Paganini's 24 Caprices\n",
       "10. Nielsen: The Six Symphonies\n",
       "\n",
       "If you need more information or additional titles, feel free to ask!"
      ],
      "text/plain": [
       "<IPython.core.display.Markdown object>"
      ]
     },
     "metadata": {},
     "output_type": "display_data"
    }
   ],
   "source": [
    "display(Markdown(result['messages'][-1].content))"
   ]
  },
  {
   "cell_type": "code",
   "execution_count": null,
   "metadata": {},
   "outputs": [
    {
     "name": "stdout",
     "output_type": "stream",
     "text": [
      "Calling: {'name': 'db_query_tool', 'args': {'query': 'SELECT DISTINCT Artist.Name FROM Artist JOIN Album ON Artist.ArtistId = Album.ArtistId ORDER BY Artist.Name'}, 'id': 'call_19M2myBRmJfsMbAhrl39hQc4', 'type': 'tool_call'}\n"
     ]
    },
    {
     "data": {
      "text/markdown": [
       "Here are some artists who have an album in the database:\n",
       "\n",
       "1. AC/DC\n",
       "2. Aaron Copland & London Symphony Orchestra\n",
       "3. Aaron Goldberg\n",
       "4. Academy of St. Martin in the Fields & Sir Neville Marriner\n",
       "5. Accept\n",
       "6. Aerosmith\n",
       "7. Aisha Duo\n",
       "8. Alanis Morissette\n",
       "9. Alice In Chains\n",
       "10. Amy Winehouse\n",
       "\n",
       "If you need more information or additional names, feel free to ask!"
      ],
      "text/plain": [
       "<IPython.core.display.Markdown object>"
      ]
     },
     "metadata": {},
     "output_type": "display_data"
    }
   ],
   "source": [
    "user_input = \"Which album has the most tracks?\"\n",
    "\n",
    "result = sql_graph.invoke(\n",
    "    {\"messages\": [HumanMessage(content=user_input)]},\n",
    "    config=config\n",
    ")\n",
    "display(Markdown(result['messages'][-1].content))\n",
    "# result['messages']"
   ]
  },
  {
   "cell_type": "code",
   "execution_count": 87,
   "metadata": {},
   "outputs": [
    {
     "name": "stdout",
     "output_type": "stream",
     "text": [
      "human\n",
      "ai\n",
      "tool\n",
      "ai\n",
      "tool\n",
      "ai\n",
      "tool\n",
      "ai\n",
      "human\n",
      "ai\n",
      "tool\n",
      "ai\n",
      "tool\n",
      "tool\n",
      "ai\n",
      "tool\n",
      "ai\n"
     ]
    }
   ],
   "source": [
    "for msg in result['messages']:\n",
    "    print(msg.type)"
   ]
  },
  {
   "cell_type": "code",
   "execution_count": 92,
   "metadata": {},
   "outputs": [
    {
     "name": "stdout",
     "output_type": "stream",
     "text": [
      "false\n",
      "true\n",
      "false\n",
      "true\n",
      "false\n",
      "true\n",
      "false\n",
      "false\n",
      "false\n",
      "true\n",
      "false\n",
      "true\n",
      "false\n",
      "false\n",
      "true\n",
      "false\n",
      "false\n"
     ]
    }
   ],
   "source": [
    "for msg in result[\"messages\"]:\n",
    "    if msg.type == \"ai\" and msg.tool_calls:\n",
    "        print(\"true\")\n",
    "    else:\n",
    "        print(\"false\")"
   ]
  },
  {
   "cell_type": "code",
   "execution_count": 94,
   "metadata": {},
   "outputs": [
    {
     "data": {
      "text/plain": [
       "[HumanMessage(content='Hi, can you tell me the names of popular albums in the database?', additional_kwargs={}, response_metadata={}, id='86409862-8738-4453-85da-bc3b8083eff5'),\n",
       " AIMessage(content=\"Here are some popular album titles from the database:\\n\\n1. Koyaanisqatsi (Soundtrack from the Motion Picture)\\n2. Mozart: Chamber Music\\n3. Monteverdi: L'Orfeo\\n4. Schubert: The Late String Quartets & String Quintet (3 CDs)\\n5. Respighi: Pines of Rome\\n6. Locatelli: Concertos for Violin, Strings and Continuo, Vol. 3\\n7. Great Recordings of the Century - Schubert: Schwanengesang, 4 Lieder\\n8. Liszt - 12 Études D'Execution Transcendante\\n9. Great Recordings of the Century: Paganini's 24 Caprices\\n10. Nielsen: The Six Symphonies\\n\\nIf you need more information or additional titles, feel free to ask!\", additional_kwargs={}, response_metadata={'finish_reason': 'stop', 'model_name': 'gpt-4o-2024-08-06', 'system_fingerprint': 'fp_b705f0c291'}, id='run-75a334a3-4893-4620-abf3-39c3e5fd56c3-0'),\n",
       " HumanMessage(content='Can you show me all the artists who have an album?', additional_kwargs={}, response_metadata={}, id='9df6e8f5-7e7a-45a4-ac6c-5ba43260eb8a'),\n",
       " AIMessage(content='Here are some artists who have an album in the database:\\n\\n1. AC/DC\\n2. Aaron Copland & London Symphony Orchestra\\n3. Aaron Goldberg\\n4. Academy of St. Martin in the Fields & Sir Neville Marriner\\n5. Accept\\n6. Aerosmith\\n7. Aisha Duo\\n8. Alanis Morissette\\n9. Alice In Chains\\n10. Amy Winehouse\\n\\nIf you need more information or additional names, feel free to ask!', additional_kwargs={}, response_metadata={'finish_reason': 'stop', 'model_name': 'gpt-4o-2024-08-06', 'system_fingerprint': 'fp_b705f0c291'}, id='run-40888e94-842d-4bbf-83bd-1723958adad0-0')]"
      ]
     },
     "execution_count": 94,
     "metadata": {},
     "output_type": "execute_result"
    }
   ],
   "source": [
    "[msg for msg in result[\"messages\"] if not (msg.type == \"tool\" or (msg.type ==\"ai\" and msg.tool_calls))]\n"
   ]
  },
  {
   "cell_type": "code",
   "execution_count": 95,
   "metadata": {},
   "outputs": [
    {
     "data": {
      "text/plain": [
       "[HumanMessage(content='Hi, can you tell me the names of popular albums in the database?', additional_kwargs={}, response_metadata={}, id='86409862-8738-4453-85da-bc3b8083eff5'),\n",
       " HumanMessage(content='Can you show me all the artists who have an album?', additional_kwargs={}, response_metadata={}, id='9df6e8f5-7e7a-45a4-ac6c-5ba43260eb8a')]"
      ]
     },
     "execution_count": 95,
     "metadata": {},
     "output_type": "execute_result"
    }
   ],
   "source": [
    "questions = [msg for msg in result['messages'] if msg.type == 'human' and msg.name is None]\n",
    "questions"
   ]
  },
  {
   "cell_type": "code",
   "execution_count": null,
   "metadata": {},
   "outputs": [],
   "source": []
  }
 ],
 "metadata": {
  "kernelspec": {
   "display_name": "Python 3",
   "language": "python",
   "name": "python3"
  },
  "language_info": {
   "codemirror_mode": {
    "name": "ipython",
    "version": 3
   },
   "file_extension": ".py",
   "mimetype": "text/x-python",
   "name": "python",
   "nbconvert_exporter": "python",
   "pygments_lexer": "ipython3",
   "version": "3.11.11"
  }
 },
 "nbformat": 4,
 "nbformat_minor": 2
}
