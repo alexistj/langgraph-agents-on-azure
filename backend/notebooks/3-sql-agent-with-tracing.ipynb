{
 "cells": [
  {
   "cell_type": "code",
   "execution_count": 1,
   "metadata": {},
   "outputs": [
    {
     "data": {
      "text/plain": [
       "True"
      ]
     },
     "execution_count": 1,
     "metadata": {},
     "output_type": "execute_result"
    }
   ],
   "source": [
    "import os, json\n",
    "\n",
    "from dotenv import load_dotenv, find_dotenv\n",
    "load_dotenv(find_dotenv(), override=True)"
   ]
  },
  {
   "cell_type": "markdown",
   "metadata": {},
   "source": [
    "## Tracing Setup"
   ]
  },
  {
   "cell_type": "code",
   "execution_count": null,
   "metadata": {},
   "outputs": [
    {
     "data": {
      "text/plain": [
       "<opentelemetry.sdk.trace.Tracer at 0x2183add6890>"
      ]
     },
     "execution_count": 4,
     "metadata": {},
     "output_type": "execute_result"
    }
   ],
   "source": [
    "# [START trace_function]\n",
    "from opentelemetry.trace import get_tracer\n",
    "\n",
    "from tracing import init_tracing, tracer, root_span\n",
    "\n",
    "# tracer = init_tracing(False) # this was done in tracing.py already\n",
    "tracer"
   ]
  },
  {
   "cell_type": "markdown",
   "metadata": {},
   "source": [
    "## Define tools for the agent\n",
    "\n",
    "We will define a few tools that the agent will use to interact with the database.\n",
    "\n",
    "1. `list_tables_tool`: Fetch the available tables from the database\n",
    "2. `get_schema_tool`: Fetch the DDL for a table\n",
    "3. `db_query_tool`: Execute the query and fetch the results OR return an error message if the query fails\n",
    "\n",
    "For the first two tools, we will grab them from the `SQLDatabaseToolkit`, also available in the `langchain_community` package."
   ]
  },
  {
   "cell_type": "code",
   "execution_count": 5,
   "metadata": {},
   "outputs": [
    {
     "name": "stdout",
     "output_type": "stream",
     "text": [
      "sqlite\n",
      "['Album', 'Artist', 'Customer', 'Employee', 'Genre', 'Invoice', 'InvoiceLine', 'MediaType', 'Playlist', 'PlaylistTrack', 'Track']\n"
     ]
    }
   ],
   "source": [
    "from langchain_community.utilities import SQLDatabase\n",
    "\n",
    "db = SQLDatabase.from_uri(\"sqlite:///chinook.db\")\n",
    "print(db.dialect)\n",
    "print(db.get_usable_table_names())\n"
   ]
  },
  {
   "cell_type": "code",
   "execution_count": 6,
   "metadata": {},
   "outputs": [
    {
     "name": "stdout",
     "output_type": "stream",
     "text": [
      "sql_db_query\n",
      "\tInput to this tool is a detailed and correct SQL query, output is a result from the database. If the query is not correct, an error message will be returned. If an error is returned, rewrite the query, check the query, and try again. If you encounter an issue with Unknown column 'xxxx' in 'field list', use sql_db_schema to query the correct table fields.\n",
      "\n",
      "sql_db_schema\n",
      "\tInput to this tool is a comma-separated list of tables, output is the schema and sample rows for those tables. Be sure that the tables actually exist by calling sql_db_list_tables first! Example Input: table1, table2, table3\n",
      "\n",
      "sql_db_list_tables\n",
      "\tInput is an empty string, output is a comma-separated list of tables in the database.\n",
      "\n",
      "sql_db_query_checker\n",
      "\tUse this tool to double check if your query is correct before executing it. Always use this tool before executing a query with sql_db_query!\n",
      "\n"
     ]
    }
   ],
   "source": [
    "from langchain_community.agent_toolkits import SQLDatabaseToolkit\n",
    "from langchain_openai import AzureChatOpenAI\n",
    "\n",
    "llm = AzureChatOpenAI(\n",
    "    api_key=os.environ[\"AZURE_OPENAI_API_KEY\"],\n",
    "    azure_endpoint=os.environ[\"AZURE_OPENAI_ENDPOINT\"],\n",
    "    api_version=os.environ[\"AZURE_OPENAI_API_VERSION\"],   # tool_choice=\"required\" is only supported in 2024-06-01 and later\n",
    "    azure_deployment=\"gpt-4o\",\n",
    "    streaming=True,\n",
    "    temperature=0\n",
    ")\n",
    "\n",
    "toolkit = SQLDatabaseToolkit(db=db, llm=llm)\n",
    "tools = toolkit.get_tools()\n",
    "\n",
    "for tool in tools:\n",
    "    print(tool.name)\n",
    "    print(f\"\\t{tool.description}\\n\")"
   ]
  },
  {
   "cell_type": "code",
   "execution_count": 7,
   "metadata": {},
   "outputs": [],
   "source": [
    "list_tables_tool = next(tool for tool in tools if tool.name == \"sql_db_list_tables\")\n",
    "get_schema_tool = next(tool for tool in tools if tool.name == \"sql_db_schema\")"
   ]
  },
  {
   "cell_type": "code",
   "execution_count": 8,
   "metadata": {},
   "outputs": [],
   "source": [
    "from typing import Any\n",
    "\n",
    "from langchain_core.messages import HumanMessage, AIMessage, ToolMessage\n",
    "from langchain_core.runnables import RunnableLambda, RunnableWithFallbacks\n",
    "from langgraph.prebuilt import ToolNode\n",
    "\n",
    "\n",
    "def create_tool_node_with_fallback(tools: list) -> RunnableWithFallbacks[Any, dict]:\n",
    "    \"\"\"\n",
    "    Create a ToolNode with a fallback to handle errors and surface them to the agent.\n",
    "    \"\"\"\n",
    "    return ToolNode(tools).with_fallbacks(\n",
    "        [RunnableLambda(handle_tool_error)], exception_key=\"error\"\n",
    "    )\n",
    "\n",
    "\n",
    "def handle_tool_error(state) -> dict:\n",
    "    error = state.get(\"error\")\n",
    "    tool_calls = state[\"messages\"][-1].tool_calls\n",
    "    return {\n",
    "        \"messages\": [\n",
    "            ToolMessage(\n",
    "                content=f\"Error: {repr(error)}\\n please fix your mistakes.\",\n",
    "                tool_call_id=tc[\"id\"],\n",
    "            )\n",
    "            for tc in tool_calls\n",
    "        ]\n",
    "    }"
   ]
  },
  {
   "cell_type": "code",
   "execution_count": 9,
   "metadata": {},
   "outputs": [
    {
     "name": "stdout",
     "output_type": "stream",
     "text": [
      "[(1, 'AC/DC'), (2, 'Accept'), (3, 'Aerosmith'), (4, 'Alanis Morissette'), (5, 'Alice In Chains'), (6, 'Antônio Carlos Jobim'), (7, 'Apocalyptica'), (8, 'Audioslave'), (9, 'BackBeat'), (10, 'Billy Cobham')]\n"
     ]
    }
   ],
   "source": [
    "from langchain_core.tools import tool\n",
    "from pydantic import BaseModel, Field\n",
    "\n",
    "class GenerateQuery(BaseModel):\n",
    "    \"\"\"Generate a query based on the question and schema.\"\"\"\n",
    "    query: str = Field(..., description=\"The generated query to run on the sqlite3 database.\")\n",
    "\n",
    "\n",
    "@tool(args_schema=GenerateQuery)\n",
    "def db_query_tool(query: str) -> str:\n",
    "    \"\"\"\n",
    "    Execute a SQL query against the database and get back the result.\n",
    "    If the query is not correct, an error message will be returned.\n",
    "    If an error is returned, rewrite the query, check the query, and try again.\n",
    "    \"\"\"\n",
    "    result = db.run_no_throw(query)\n",
    "    if not result:\n",
    "        return \"Error: Query failed. Please rewrite your query and try again.\"\n",
    "    if result.startswith(\"Error:\"):\n",
    "        return result + \"\\nPlease rewrite your query and try again.\"\n",
    "    return result   # above if condition is not required as \"run_no_throw returns error too\"\n",
    "\n",
    "\n",
    "sql_query = db_query_tool.invoke('SELECT * FROM Artist LIMIT 10;')\n",
    "print(sql_query)"
   ]
  },
  {
   "cell_type": "markdown",
   "metadata": {},
   "source": [
    "# Define a Graph\n",
    "## Visualize and Run the workflow"
   ]
  },
  {
   "cell_type": "markdown",
   "metadata": {},
   "source": [
    "## Sqlite\n",
    "\n",
    "A good starting point here is the [SqliteSaver checkpointer](https://langchain-ai.github.io/langgraph/concepts/low_level/#checkpointer).\n",
    "\n",
    "Sqlite is a [small, fast, highly popular](https://x.com/karpathy/status/1819490455664685297) SQL database. \n",
    " \n",
    "If we supply `\":memory:\"` it creates an in-memory Sqlite database."
   ]
  },
  {
   "cell_type": "code",
   "execution_count": 10,
   "metadata": {},
   "outputs": [],
   "source": [
    "import sqlite3\n",
    "from langgraph.checkpoint.sqlite import SqliteSaver\n",
    "\n",
    "# # Transient in-memory database. This database exists only in RAM and will be lost once the connection is closed or the program terminates. \n",
    "# conn = sqlite3.connect(\":memory:\", check_same_thread = False)\n",
    "# checkpointer = SqliteSaver(conn)\n",
    "\n",
    "# Save to local db instead of :memory: to persist state \n",
    "db_path = \"checkpointer_db/state.db\"\n",
    "conn = sqlite3.connect(db_path, check_same_thread=False)\n",
    "checkpointer = SqliteSaver(conn)"
   ]
  },
  {
   "cell_type": "code",
   "execution_count": 11,
   "metadata": {},
   "outputs": [],
   "source": [
    "from typing import Annotated, Literal\n",
    "\n",
    "from langchain_core.messages import AIMessage\n",
    "from langchain_openai import AzureChatOpenAI\n",
    "\n",
    "from pydantic import BaseModel, Field\n",
    "from typing_extensions import TypedDict\n",
    "\n",
    "from langgraph.graph import END, StateGraph, START\n",
    "from langgraph.graph.message import AnyMessage, add_messages, MessagesState\n",
    "\n",
    "# MessagesState takes care of this, so we do not need to define this\n",
    "# \n",
    "# class State(TypedDict):\n",
    "#     messages: Annotated[list[AnyMessage], add_messages]"
   ]
  },
  {
   "cell_type": "code",
   "execution_count": 12,
   "metadata": {},
   "outputs": [],
   "source": [
    "# Add a node for the first tool call\n",
    "def list_tables_ai_call(state: MessagesState) -> dict[str, list[AIMessage]]:\n",
    "    return {\n",
    "        \"messages\": [\n",
    "            AIMessage(\n",
    "                content=\"\",\n",
    "                tool_calls=[\n",
    "                    {\n",
    "                        \"name\": \"sql_db_list_tables\",\n",
    "                        \"args\": {},\n",
    "                        \"id\": \"tool_abcd123\",\n",
    "                    }\n",
    "                ],\n",
    "            )\n",
    "        ]\n",
    "    }"
   ]
  },
  {
   "cell_type": "code",
   "execution_count": 13,
   "metadata": {},
   "outputs": [],
   "source": [
    "def get_db_schema(state: MessagesState):  \n",
    "    get_schema_tool = next(tool for tool in tools if tool.name == \"sql_db_schema\")\n",
    "    model_get_schema  = llm.bind_tools([get_schema_tool])\n",
    "    \n",
    "    messages = state[\"messages\"]\n",
    "    db_schema = model_get_schema.invoke(messages)\n",
    "    return {\"messages\": [db_schema]}"
   ]
  },
  {
   "cell_type": "code",
   "execution_count": null,
   "metadata": {},
   "outputs": [],
   "source": [
    "from langchain_core.prompts import ChatPromptTemplate\n",
    "# from pydantic import BaseModel, Field\n",
    "\n",
    "QUERY_GEN_SYSTEM_MSG = \"\"\"You are a SQL expert with a strong attention to detail.\n",
    "\n",
    "You have access to a SQLite database through a db_query_tool that can execute queries on the database.\n",
    "Given an input question, call the tool by generating a syntactically correct SQLite query without wrapping it in any sql or markers by using \"GenerateQuery\" tool schema definition.\n",
    "If the query fails, you will be prompted to rewrite the query and try again. \n",
    "If the query is correct, you will get the result of the query, which you can then use to answer the question.\n",
    "\n",
    "When extracting the query argument for the tool, follow the following INSTRUCTIONS:\n",
    "\n",
    "- Unless the user specifies a specific number of examples they wish to obtain, always limit your query to at most 50 results.\n",
    "- ALWAYS ORDER the results by a relevant column to return the most interesting examples in the database, preferrably in descending order of numeric values using DESC.\n",
    "- Never query for all the columns from a specific table, only ask for the relevant columns given the question.\n",
    "- If you get an error while executing a query, you will be prompted to rewrite the query and try again.\n",
    "- NEVER make stuff up if you don't have enough information to answer the query... just say you don't have enough information or ask for clarification.\n",
    "- DO NOT make any DML statements (INSERT, UPDATE, DELETE, DROP etc.) to the database.\"\"\"   \n",
    "    \n",
    "\n",
    "\n",
    "\n",
    "def query_agent_node(state: MessagesState) -> MessagesState:\n",
    "    try:\n",
    "        with tracer.start_as_current_span(\"query_agent_node\") as span:  \n",
    "            messages = state[\"messages\"]\n",
    "            questions = [msg for msg in messages if msg.type == 'human' and msg.name is None]\n",
    "            latest_question = questions[-1].content if questions else None\n",
    "            span.set_attribute(\"input.question\", latest_question)\n",
    "\n",
    "            query_gen_prompt = ChatPromptTemplate.from_messages(\n",
    "                [(\"system\", QUERY_GEN_SYSTEM_MSG), (\"human\", \"{messages}\")]\n",
    "            )\n",
    "            query_gen = query_gen_prompt | llm.bind_tools([db_query_tool])\n",
    "            query_response = query_gen.invoke({'messages': messages})\n",
    "            \n",
    "            if len(query_response.tool_calls) > 0:\n",
    "                for i, tc in enumerate(query_response.tool_calls):\n",
    "                    span.set_attribute(f\"output.query{i+1}\", str(tc['args']['query']))\n",
    "            else:\n",
    "                span.set_attribute(\"output.answer\", str(query_response.content))\n",
    "            \n",
    "            return {\"messages\": [query_response]}\n",
    "        \n",
    "    except Exception as e:\n",
    "            # logging.error(f\"Error in query_agent_node: {e}\")\n",
    "            print(f\"Error in query_agent_node: {e}\")\n",
    "            return {\"messages\": [AIMessage(content=\"An error occurred: {e}. Please retry.\")]}"
   ]
  },
  {
   "cell_type": "code",
   "execution_count": 15,
   "metadata": {},
   "outputs": [],
   "source": [
    "def db_tool_node(state: MessagesState):\n",
    "    with tracer.start_as_current_span(\"db_tool_node\") as span: \n",
    "        tool_calls = state[\"messages\"][-1].tool_calls        \n",
    "        tools_mapping = {\"db_query_tool\": db_query_tool}\n",
    "        \n",
    "        results = []        \n",
    "        for tool_call in tool_calls:\n",
    "            print(f\"Calling: {tool_call}\")\n",
    "            if not tool_call['name'] in tools_mapping.keys():     # check for bad tool name from LLM\n",
    "                print(\"\\n ....bad tool name....\")\n",
    "                span.set_attribute(\"input.tool_name\", str(tool_call[\"name\"]))\n",
    "                output = \"bad tool name, retry\"  # instruct LLM to retry\n",
    "                span.set_attribute(\"output.error\", str(output))\n",
    "            else:\n",
    "                tool = tools_mapping[tool_call[\"name\"].lower()]\n",
    "                span.set_attribute(\"input.tool_name\", str(tool_call[\"name\"]))\n",
    "                span.set_attribute(\"input.query\", str(tool_call[\"args\"][\"query\"]))\n",
    "                output = tool.invoke(tool_call[\"args\"])        \n",
    "                span.set_attribute(\"output.db_result\", str(output))   \n",
    "            \n",
    "            results.append(ToolMessage(\n",
    "                        tool_call_id=tool_call['id'], \n",
    "                        name=tool_call['name'], \n",
    "                        content=str(output)\n",
    "                    ))\n",
    "        # print(f\"Tool Results: {results}\")\n",
    "        state['messages'] = results\n",
    "        return state"
   ]
  },
  {
   "cell_type": "code",
   "execution_count": 16,
   "metadata": {},
   "outputs": [],
   "source": [
    "# def tool_check(state: MessagesState) -> Literal[\"query_db\", \"__end__\"]:\n",
    "#     messages = state[\"messages\"]\n",
    "#     last_message = messages[-1]\n",
    "    \n",
    "#     if len(last_message.tool_calls) > 0:\n",
    "#         return \"query_db\"\n",
    "#     else:\n",
    "#         return \"__end__\"\n",
    "\n",
    "def tool_check(state: MessagesState) -> Literal[\"query_db\", \"generate_answer\"]:\n",
    "    messages = state[\"messages\"]\n",
    "    last_message = messages[-1]\n",
    "    \n",
    "    if len(last_message.tool_calls) > 0:\n",
    "        return \"query_db\"\n",
    "    else:\n",
    "        return \"generate_answer\"\n",
    "    "
   ]
  },
  {
   "cell_type": "code",
   "execution_count": 17,
   "metadata": {},
   "outputs": [],
   "source": [
    "from langgraph.graph import MessagesState, StateGraph, START, END\n",
    "from langgraph.graph.message import RemoveMessage, add_messages\n",
    "\n",
    "def delete_intermediate_messages(state: MessagesState):\n",
    "    return {\"messages\": [RemoveMessage(id=msg.id) for msg in state['messages']  if (msg.type == \"tool\" or msg.content==\"\")]}   \n",
    "    # return {\"messages\": [RemoveMessage(id=msg.id) for msg in state['messages']  if (msg.type == \"tool\" or (msg.type ==\"ai\" and msg.tool_calls))]}"
   ]
  },
  {
   "cell_type": "code",
   "execution_count": 18,
   "metadata": {},
   "outputs": [
    {
     "data": {
      "image/png": "[encoded data removed]",
      "text/plain": [
       "<IPython.core.display.Image object>"
      ]
     },
     "metadata": {},
     "output_type": "display_data"
    }
   ],
   "source": [
    "# Define a new graph\n",
    "workflow = StateGraph(MessagesState)\n",
    "\n",
    "\n",
    "\n",
    "workflow.add_node(\"list_tables_ai_call\", list_tables_ai_call)\n",
    "workflow.add_node(\n",
    "    \"list_tables_tool\", create_tool_node_with_fallback([list_tables_tool])\n",
    ")\n",
    "\n",
    "workflow.add_node(\"get_relevant_schema\", get_db_schema)\n",
    "workflow.add_node(\"get_schema_tool\", create_tool_node_with_fallback([get_schema_tool]))\n",
    "\n",
    "workflow.add_node(\"query_agent\", query_agent_node)\n",
    "workflow.add_node(\"execute_query\", db_tool_node)\n",
    "workflow.add_node(\"delete_intermediate_messages\", delete_intermediate_messages)\n",
    "\n",
    "\n",
    "\n",
    "workflow.add_edge(START, \"list_tables_ai_call\")\n",
    "workflow.add_edge(\"list_tables_ai_call\", \"list_tables_tool\") \n",
    "workflow.add_edge(\"list_tables_tool\", \"get_relevant_schema\")\n",
    "workflow.add_edge(\"get_relevant_schema\", \"get_schema_tool\")\n",
    "workflow.add_edge(\"get_schema_tool\", \"query_agent\")\n",
    "workflow.add_conditional_edges(\n",
    "    \"query_agent\",\n",
    "    tool_check,\n",
    "    # {\"query_db\": \"execute_query\", \"__end__\": END}\n",
    "    {\"query_db\": \"execute_query\", \"generate_answer\": \"delete_intermediate_messages\"},\n",
    ")\n",
    "workflow.add_edge(\"execute_query\", \"query_agent\")\n",
    "workflow.add_edge(\"delete_intermediate_messages\", END)  \n",
    "\n",
    "\n",
    "# Compile the workflow into a runnable\n",
    "sql_graph = workflow.compile(checkpointer=checkpointer)\n",
    "\n",
    "from IPython.display import Image, display\n",
    "from langchain_core.runnables.graph import MermaidDrawMethod\n",
    "\n",
    "display(\n",
    "    Image(\n",
    "        sql_graph.get_graph().draw_mermaid_png(\n",
    "            draw_method=MermaidDrawMethod.API,\n",
    "        )\n",
    "    )\n",
    ")"
   ]
  },
  {
   "cell_type": "markdown",
   "metadata": {},
   "source": [
    "## Conversation Test 1"
   ]
  },
  {
   "cell_type": "code",
   "execution_count": 19,
   "metadata": {},
   "outputs": [
    {
     "name": "stdout",
     "output_type": "stream",
     "text": [
      "Session ID: cbcc4447-e433-4e25-9bcb-cab585016f9c\n",
      "\n",
      "Calling: {'name': 'db_query_tool', 'args': {'query': 'SELECT Title FROM Album ORDER BY AlbumId DESC LIMIT 50'}, 'id': 'call_eIm7qMCkaQFzgnTBF9RAoVdX', 'type': 'tool_call'}\n"
     ]
    },
    {
     "data": {
      "text/plain": [
       "[HumanMessage(content='Hi, can you tell me the names of popular albums in the database?', additional_kwargs={}, response_metadata={}, id='d5031384-8ea4-415c-94c7-815517dcbd9f'),\n",
       " AIMessage(content=\"Here are some popular album titles from the database:\\n\\n1. Koyaanisqatsi (Soundtrack from the Motion Picture)\\n2. Mozart: Chamber Music\\n3. Monteverdi: L'Orfeo\\n4. Schubert: The Late String Quartets & String Quintet (3 CDs)\\n5. Respighi: Pines of Rome\\n6. Locatelli: Concertos for Violin, Strings and Continuo, Vol. 3\\n7. Great Recordings of the Century - Shubert: Schwanengesang, 4 Lieder\\n8. Liszt - 12 Études D'Execution Transcendante\\n9. Great Recordings of the Century: Paganini's 24 Caprices\\n10. Nielsen: The Six Symphonies\\n\\nIf you need more information or additional titles, feel free to ask!\", additional_kwargs={}, response_metadata={'finish_reason': 'stop', 'model_name': 'gpt-4o-2024-08-06', 'system_fingerprint': 'fp_b705f0c291'}, id='run-9184088e-fac4-4d1a-85f6-a3d81e952339-0')]"
      ]
     },
     "execution_count": 19,
     "metadata": {},
     "output_type": "execute_result"
    }
   ],
   "source": [
    "import uuid\n",
    "\n",
    "session_id = str(uuid.uuid4())\n",
    "config = {\"configurable\": {\"thread_id\": session_id}}\n",
    "print(f\"Session ID: {session_id}\\n\")\n",
    "\n",
    "from langchain_core.messages import HumanMessage\n",
    "user_input = \"Hi, can you tell me the names of popular albums in the database?\"\n",
    "\n",
    "with root_span(tracer=tracer, name = \"SqlAgent-Notebook\" + \" - \" + user_input, agent=\"Azure SQL Agent\"):\n",
    "    result = sql_graph.invoke(\n",
    "        {\"messages\": [HumanMessage(content=user_input)]},\n",
    "        config=config\n",
    "    )\n",
    "result['messages']"
   ]
  },
  {
   "cell_type": "code",
   "execution_count": 20,
   "metadata": {},
   "outputs": [
    {
     "data": {
      "text/markdown": [
       "Here are some popular album titles from the database:\n",
       "\n",
       "1. Koyaanisqatsi (Soundtrack from the Motion Picture)\n",
       "2. Mozart: Chamber Music\n",
       "3. Monteverdi: L'Orfeo\n",
       "4. Schubert: The Late String Quartets & String Quintet (3 CDs)\n",
       "5. Respighi: Pines of Rome\n",
       "6. Locatelli: Concertos for Violin, Strings and Continuo, Vol. 3\n",
       "7. Great Recordings of the Century - Shubert: Schwanengesang, 4 Lieder\n",
       "8. Liszt - 12 Études D'Execution Transcendante\n",
       "9. Great Recordings of the Century: Paganini's 24 Caprices\n",
       "10. Nielsen: The Six Symphonies\n",
       "\n",
       "If you need more information or additional titles, feel free to ask!"
      ],
      "text/plain": [
       "<IPython.core.display.Markdown object>"
      ]
     },
     "metadata": {},
     "output_type": "display_data"
    }
   ],
   "source": [
    "from IPython.display import Markdown, display\n",
    "display(Markdown(result['messages'][-1].content))"
   ]
  },
  {
   "cell_type": "code",
   "execution_count": 21,
   "metadata": {},
   "outputs": [
    {
     "name": "stdout",
     "output_type": "stream",
     "text": [
      "Calling: {'name': 'db_query_tool', 'args': {'query': 'SELECT Album.Title, COUNT(Track.TrackId) AS TrackCount FROM Album JOIN Track ON Album.AlbumId = Track.AlbumId GROUP BY Album.AlbumId ORDER BY TrackCount DESC LIMIT 1;'}, 'id': 'call_Z1kaWb2DGvM7Wiyc0OiL1ZsJ', 'type': 'tool_call'}\n"
     ]
    },
    {
     "data": {
      "text/markdown": [
       "The album with the most tracks in the database is \"Greatest Hits,\" which has 57 tracks."
      ],
      "text/plain": [
       "<IPython.core.display.Markdown object>"
      ]
     },
     "metadata": {},
     "output_type": "display_data"
    },
    {
     "data": {
      "text/plain": [
       "[HumanMessage(content='Hi, can you tell me the names of popular albums in the database?', additional_kwargs={}, response_metadata={}, id='d5031384-8ea4-415c-94c7-815517dcbd9f'),\n",
       " AIMessage(content=\"Here are some popular album titles from the database:\\n\\n1. Koyaanisqatsi (Soundtrack from the Motion Picture)\\n2. Mozart: Chamber Music\\n3. Monteverdi: L'Orfeo\\n4. Schubert: The Late String Quartets & String Quintet (3 CDs)\\n5. Respighi: Pines of Rome\\n6. Locatelli: Concertos for Violin, Strings and Continuo, Vol. 3\\n7. Great Recordings of the Century - Shubert: Schwanengesang, 4 Lieder\\n8. Liszt - 12 Études D'Execution Transcendante\\n9. Great Recordings of the Century: Paganini's 24 Caprices\\n10. Nielsen: The Six Symphonies\\n\\nIf you need more information or additional titles, feel free to ask!\", additional_kwargs={}, response_metadata={'finish_reason': 'stop', 'model_name': 'gpt-4o-2024-08-06', 'system_fingerprint': 'fp_b705f0c291'}, id='run-9184088e-fac4-4d1a-85f6-a3d81e952339-0'),\n",
       " HumanMessage(content='Which album has the most tracks?', additional_kwargs={}, response_metadata={}, id='20965bd1-8b6c-4093-9a10-4dbdb2521b02'),\n",
       " AIMessage(content='The album with the most tracks in the database is \"Greatest Hits,\" which has 57 tracks.', additional_kwargs={}, response_metadata={'finish_reason': 'stop', 'model_name': 'gpt-4o-2024-08-06', 'system_fingerprint': 'fp_b705f0c291'}, id='run-904da43f-e1ec-4ad9-9398-b36c3fc71a16-0')]"
      ]
     },
     "execution_count": 21,
     "metadata": {},
     "output_type": "execute_result"
    }
   ],
   "source": [
    "user_input = \"Which album has the most tracks?\"\n",
    "\n",
    "with root_span(tracer=tracer, name = \"SqlAgent-Notebook\" + \" - \" + user_input, agent=\"Azure SQL Agent\"):\n",
    "    result = sql_graph.invoke(\n",
    "        {\"messages\": [HumanMessage(content=user_input)]},\n",
    "        config=config\n",
    "    )\n",
    "display(Markdown(result['messages'][-1].content))\n",
    "result['messages']"
   ]
  },
  {
   "cell_type": "code",
   "execution_count": 22,
   "metadata": {},
   "outputs": [
    {
     "data": {
      "text/markdown": [
       "The artist of the album \"Restless and Wild\" is Accept."
      ],
      "text/plain": [
       "<IPython.core.display.Markdown object>"
      ]
     },
     "metadata": {},
     "output_type": "display_data"
    },
    {
     "data": {
      "text/plain": [
       "[HumanMessage(content='Hi, can you tell me the names of popular albums in the database?', additional_kwargs={}, response_metadata={}, id='d5031384-8ea4-415c-94c7-815517dcbd9f'),\n",
       " AIMessage(content=\"Here are some popular album titles from the database:\\n\\n1. Koyaanisqatsi (Soundtrack from the Motion Picture)\\n2. Mozart: Chamber Music\\n3. Monteverdi: L'Orfeo\\n4. Schubert: The Late String Quartets & String Quintet (3 CDs)\\n5. Respighi: Pines of Rome\\n6. Locatelli: Concertos for Violin, Strings and Continuo, Vol. 3\\n7. Great Recordings of the Century - Shubert: Schwanengesang, 4 Lieder\\n8. Liszt - 12 Études D'Execution Transcendante\\n9. Great Recordings of the Century: Paganini's 24 Caprices\\n10. Nielsen: The Six Symphonies\\n\\nIf you need more information or additional titles, feel free to ask!\", additional_kwargs={}, response_metadata={'finish_reason': 'stop', 'model_name': 'gpt-4o-2024-08-06', 'system_fingerprint': 'fp_b705f0c291'}, id='run-9184088e-fac4-4d1a-85f6-a3d81e952339-0'),\n",
       " HumanMessage(content='Which album has the most tracks?', additional_kwargs={}, response_metadata={}, id='20965bd1-8b6c-4093-9a10-4dbdb2521b02'),\n",
       " AIMessage(content='The album with the most tracks in the database is \"Greatest Hits,\" which has 57 tracks.', additional_kwargs={}, response_metadata={'finish_reason': 'stop', 'model_name': 'gpt-4o-2024-08-06', 'system_fingerprint': 'fp_b705f0c291'}, id='run-904da43f-e1ec-4ad9-9398-b36c3fc71a16-0'),\n",
       " HumanMessage(content='Who is the artist of the album Restless and Wild?', additional_kwargs={}, response_metadata={}, id='fe85982a-d278-4273-a92a-bb8a229d6869'),\n",
       " AIMessage(content='The artist of the album \"Restless and Wild\" is Accept.', additional_kwargs={}, response_metadata={'finish_reason': 'stop', 'model_name': 'gpt-4o-2024-08-06', 'system_fingerprint': 'fp_b705f0c291'}, id='run-3980910a-3470-487e-b1b3-4eb99e8487e6-0')]"
      ]
     },
     "execution_count": 22,
     "metadata": {},
     "output_type": "execute_result"
    }
   ],
   "source": [
    "\n",
    "user_input = \"Who is the artist of the album Restless and Wild?\"\n",
    "\n",
    "with root_span(tracer=tracer, name = \"SqlAgent-Notebook\" + \" - \" + user_input, agent=\"Azure SQL Agent\"):\n",
    "    result = sql_graph.invoke(\n",
    "        {\"messages\": [HumanMessage(content=user_input)]},\n",
    "        config=config\n",
    "    )\n",
    "display(Markdown(result['messages'][-1].content))\n",
    "result['messages']"
   ]
  },
  {
   "cell_type": "markdown",
   "metadata": {},
   "source": [
    "## Conversation Test 2"
   ]
  },
  {
   "cell_type": "code",
   "execution_count": 23,
   "metadata": {},
   "outputs": [
    {
     "name": "stdout",
     "output_type": "stream",
     "text": [
      "Session ID: 7f724085-85d2-4f6e-8f09-5755a57842f3\n",
      "\n",
      "Calling: {'name': 'db_query_tool', 'args': {'query': 'SELECT Name, UnitPrice FROM Track ORDER BY UnitPrice DESC LIMIT 5'}, 'id': 'call_CtpqLnXWwHENdgt2HKcQ63VQ', 'type': 'tool_call'}\n"
     ]
    },
    {
     "data": {
      "text/markdown": [
       "The top 5 most expensive tracks are:\n",
       "\n",
       "1. \"Battlestar Galactica: The Story So Far\" - $1.99\n",
       "2. \"Occupation / Precipice\" - $1.99\n",
       "3. \"Exodus, Pt. 1\" - $1.99\n",
       "4. \"Exodus, Pt. 2\" - $1.99\n",
       "5. \"Collaborators\" - $1.99"
      ],
      "text/plain": [
       "<IPython.core.display.Markdown object>"
      ]
     },
     "metadata": {},
     "output_type": "display_data"
    },
    {
     "data": {
      "text/plain": [
       "[HumanMessage(content='Can you list the top 5 most expensive tracks?', additional_kwargs={}, response_metadata={}, id='05e1bf82-b3f5-4db6-8a36-c0e69dc27176'),\n",
       " AIMessage(content='The top 5 most expensive tracks are:\\n\\n1. \"Battlestar Galactica: The Story So Far\" - $1.99\\n2. \"Occupation / Precipice\" - $1.99\\n3. \"Exodus, Pt. 1\" - $1.99\\n4. \"Exodus, Pt. 2\" - $1.99\\n5. \"Collaborators\" - $1.99', additional_kwargs={}, response_metadata={'finish_reason': 'stop', 'model_name': 'gpt-4o-2024-08-06', 'system_fingerprint': 'fp_b705f0c291'}, id='run-e8a19b63-4d0d-4b63-8709-aa8eb558866a-0')]"
      ]
     },
     "execution_count": 23,
     "metadata": {},
     "output_type": "execute_result"
    }
   ],
   "source": [
    "import uuid\n",
    "\n",
    "session_id = str(uuid.uuid4())\n",
    "config = {\"configurable\": {\"thread_id\": session_id}}\n",
    "print(f\"Session ID: {session_id}\\n\")\n",
    "\n",
    "from langchain_core.messages import HumanMessage\n",
    "user_input = \"Can you list the top 5 most expensive tracks?\"\n",
    "\n",
    "with root_span(tracer=tracer, name = \"SqlAgent-Notebook\" + \" - \" + user_input, agent=\"Azure SQL Agent\"):\n",
    "    result = sql_graph.invoke(\n",
    "        {\"messages\": [HumanMessage(content=user_input)]},\n",
    "        config=config\n",
    "    )\n",
    "display(Markdown(result['messages'][-1].content))\n",
    "result['messages']"
   ]
  },
  {
   "cell_type": "code",
   "execution_count": 24,
   "metadata": {},
   "outputs": [
    {
     "name": "stdout",
     "output_type": "stream",
     "text": [
      "Calling: {'name': 'db_query_tool', 'args': {'query': 'SELECT AVG(UnitPrice) AS AveragePrice FROM Track'}, 'id': 'call_3yNhAlvfESEViF2NdcqzM4E7', 'type': 'tool_call'}\n"
     ]
    },
    {
     "data": {
      "text/markdown": [
       "The average price of all tracks is approximately $1.05."
      ],
      "text/plain": [
       "<IPython.core.display.Markdown object>"
      ]
     },
     "metadata": {},
     "output_type": "display_data"
    },
    {
     "data": {
      "text/plain": [
       "[HumanMessage(content='Can you list the top 5 most expensive tracks?', additional_kwargs={}, response_metadata={}, id='05e1bf82-b3f5-4db6-8a36-c0e69dc27176'),\n",
       " AIMessage(content='The top 5 most expensive tracks are:\\n\\n1. \"Battlestar Galactica: The Story So Far\" - $1.99\\n2. \"Occupation / Precipice\" - $1.99\\n3. \"Exodus, Pt. 1\" - $1.99\\n4. \"Exodus, Pt. 2\" - $1.99\\n5. \"Collaborators\" - $1.99', additional_kwargs={}, response_metadata={'finish_reason': 'stop', 'model_name': 'gpt-4o-2024-08-06', 'system_fingerprint': 'fp_b705f0c291'}, id='run-e8a19b63-4d0d-4b63-8709-aa8eb558866a-0'),\n",
       " HumanMessage(content='What is the average price of all tracks?', additional_kwargs={}, response_metadata={}, id='2652f44b-5855-4784-8b03-6b792463a1d7'),\n",
       " AIMessage(content='The average price of all tracks is approximately $1.05.', additional_kwargs={}, response_metadata={'finish_reason': 'stop', 'model_name': 'gpt-4o-2024-08-06', 'system_fingerprint': 'fp_b705f0c291'}, id='run-df6d4602-1217-48ca-9e0b-58bf7e71eadb-0')]"
      ]
     },
     "execution_count": 24,
     "metadata": {},
     "output_type": "execute_result"
    }
   ],
   "source": [
    "\n",
    "user_input = \"What is the average price of all tracks?\"\n",
    "\n",
    "with root_span(tracer=tracer, name = \"SqlAgent-Notebook\" + \" - \" + user_input, agent=\"Azure SQL Agent\"):\n",
    "    result = sql_graph.invoke(\n",
    "        {\"messages\": [HumanMessage(content=user_input)]},\n",
    "        config=config\n",
    "    )\n",
    "display(Markdown(result['messages'][-1].content))\n",
    "result['messages']"
   ]
  },
  {
   "cell_type": "code",
   "execution_count": 25,
   "metadata": {},
   "outputs": [
    {
     "name": "stdout",
     "output_type": "stream",
     "text": [
      "Calling: {'name': 'db_query_tool', 'args': {'query': 'SELECT Genre.Name, COUNT(Track.TrackId) AS TrackCount FROM Track JOIN Genre ON Track.GenreId = Genre.GenreId GROUP BY Genre.Name ORDER BY TrackCount DESC LIMIT 1;'}, 'id': 'call_GfIu19rrIc0BxaUaOc1NFliw', 'type': 'tool_call'}\n"
     ]
    },
    {
     "data": {
      "text/markdown": [
       "The genre with the most tracks is \"Rock,\" with a total of 1,297 tracks."
      ],
      "text/plain": [
       "<IPython.core.display.Markdown object>"
      ]
     },
     "metadata": {},
     "output_type": "display_data"
    },
    {
     "data": {
      "text/plain": [
       "[HumanMessage(content='Can you list the top 5 most expensive tracks?', additional_kwargs={}, response_metadata={}, id='05e1bf82-b3f5-4db6-8a36-c0e69dc27176'),\n",
       " AIMessage(content='The top 5 most expensive tracks are:\\n\\n1. \"Battlestar Galactica: The Story So Far\" - $1.99\\n2. \"Occupation / Precipice\" - $1.99\\n3. \"Exodus, Pt. 1\" - $1.99\\n4. \"Exodus, Pt. 2\" - $1.99\\n5. \"Collaborators\" - $1.99', additional_kwargs={}, response_metadata={'finish_reason': 'stop', 'model_name': 'gpt-4o-2024-08-06', 'system_fingerprint': 'fp_b705f0c291'}, id='run-e8a19b63-4d0d-4b63-8709-aa8eb558866a-0'),\n",
       " HumanMessage(content='What is the average price of all tracks?', additional_kwargs={}, response_metadata={}, id='2652f44b-5855-4784-8b03-6b792463a1d7'),\n",
       " AIMessage(content='The average price of all tracks is approximately $1.05.', additional_kwargs={}, response_metadata={'finish_reason': 'stop', 'model_name': 'gpt-4o-2024-08-06', 'system_fingerprint': 'fp_b705f0c291'}, id='run-df6d4602-1217-48ca-9e0b-58bf7e71eadb-0'),\n",
       " HumanMessage(content='Which genre has the most tracks?', additional_kwargs={}, response_metadata={}, id='0db12f63-a18d-4d8c-bbe4-875a5b5e6e12'),\n",
       " AIMessage(content='The genre with the most tracks is \"Rock,\" with a total of 1,297 tracks.', additional_kwargs={}, response_metadata={'finish_reason': 'stop', 'model_name': 'gpt-4o-2024-08-06', 'system_fingerprint': 'fp_b705f0c291'}, id='run-fea9fc5d-65fc-4267-bba6-0fa4e65614f6-0')]"
      ]
     },
     "execution_count": 25,
     "metadata": {},
     "output_type": "execute_result"
    }
   ],
   "source": [
    "user_input = \"Which genre has the most tracks?\"\n",
    "with root_span(tracer=tracer, name = \"SqlAgent-Notebook\" + \" - \" + user_input, agent=\"Azure SQL Agent\"):\n",
    "    result = sql_graph.invoke(\n",
    "        {\"messages\": [HumanMessage(content=user_input)]},\n",
    "        config=config\n",
    "    )\n",
    "display(Markdown(result['messages'][-1].content))\n",
    "result['messages']"
   ]
  },
  {
   "cell_type": "markdown",
   "metadata": {},
   "source": [
    "## Conversation Test 3"
   ]
  },
  {
   "cell_type": "code",
   "execution_count": null,
   "metadata": {},
   "outputs": [
    {
     "name": "stdout",
     "output_type": "stream",
     "text": [
      "Calling: {'name': 'db_query_tool', 'args': {'query': 'SELECT SUM(Total) as TotalRevenue FROM Invoice'}, 'id': 'call_YRHYBen0WHJbl3Wypudn4xPd', 'type': 'tool_call'}\n"
     ]
    },
    {
     "data": {
      "text/markdown": [
       "The total revenue generated from all sales is 2328.6."
      ],
      "text/plain": [
       "<IPython.core.display.Markdown object>"
      ]
     },
     "metadata": {},
     "output_type": "display_data"
    }
   ],
   "source": [
    "import uuid\n",
    "\n",
    "session_id = str(uuid.uuid4())\n",
    "config = {\"configurable\": {\"thread_id\": session_id}}\n",
    "# print(f\"Session ID: {session_id}\\n\")\n",
    "\n",
    "from langchain_core.messages import HumanMessage\n",
    "user_input = \"Can you find the total revenue generated from all sales?\"\n",
    "\n",
    "with root_span(tracer=tracer, name = \"SqlAgent-Notebook\" + \" - \" + user_input, agent=\"Azure SQL Agent\"):\n",
    "    result = sql_graph.invoke(\n",
    "        {\"messages\": [HumanMessage(content=user_input)]},\n",
    "        config=config\n",
    "    )\n",
    "display(Markdown(result['messages'][-1].content))\n",
    "# result['messages']"
   ]
  },
  {
   "cell_type": "code",
   "execution_count": 27,
   "metadata": {},
   "outputs": [
    {
     "name": "stdout",
     "output_type": "stream",
     "text": [
      "Calling: {'name': 'db_query_tool', 'args': {'query': 'SELECT Customer.FirstName, Customer.LastName, SUM(Invoice.Total) AS TotalSpent FROM Customer JOIN Invoice ON Customer.CustomerId = Invoice.CustomerId GROUP BY Customer.CustomerId ORDER BY TotalSpent DESC LIMIT 1;'}, 'id': 'call_zGqdehSEe5vHVtVrJsyaDyKq', 'type': 'tool_call'}\n"
     ]
    },
    {
     "data": {
      "text/markdown": [
       "The highest-paying customer is Helena Holý, with a total spending of 49.62."
      ],
      "text/plain": [
       "<IPython.core.display.Markdown object>"
      ]
     },
     "metadata": {},
     "output_type": "display_data"
    }
   ],
   "source": [
    "user_input = \"Who is the highest-paying customer?\"\n",
    "with root_span(tracer=tracer, name = \"SqlAgent-Notebook\" + \" - \" + user_input, agent=\"Azure SQL Agent\"):\n",
    "    result = sql_graph.invoke(\n",
    "        {\"messages\": [HumanMessage(content=user_input)]},\n",
    "        config=config\n",
    "    )\n",
    "display(Markdown(result['messages'][-1].content))\n",
    "# result['messages']"
   ]
  },
  {
   "cell_type": "code",
   "execution_count": 28,
   "metadata": {},
   "outputs": [
    {
     "name": "stdout",
     "output_type": "stream",
     "text": [
      "Calling: {'name': 'db_query_tool', 'args': {'query': 'SELECT Track.Name, COUNT(InvoiceLine.TrackId) AS PurchaseCount FROM InvoiceLine JOIN Track ON InvoiceLine.TrackId = Track.TrackId GROUP BY Track.Name ORDER BY PurchaseCount DESC LIMIT 1;'}, 'id': 'call_Vowb6bkClHPN5m7908EAvkvD', 'type': 'tool_call'}\n"
     ]
    },
    {
     "data": {
      "text/markdown": [
       "The most popular track by number of purchases is \"The Trooper,\" with 5 purchases."
      ],
      "text/plain": [
       "<IPython.core.display.Markdown object>"
      ]
     },
     "metadata": {},
     "output_type": "display_data"
    }
   ],
   "source": [
    "user_input = \"What is the most popular track by number of purchases?\"\n",
    "with root_span(tracer=tracer, name = \"SqlAgent-Notebook\" + \" - \" + user_input, agent=\"Azure SQL Agent\"):\n",
    "    result = sql_graph.invoke(\n",
    "        {\"messages\": [HumanMessage(content=user_input)]},\n",
    "        config=config\n",
    "    )\n",
    "display(Markdown(result['messages'][-1].content))\n",
    "# result['messages']"
   ]
  },
  {
   "cell_type": "code",
   "execution_count": 29,
   "metadata": {},
   "outputs": [
    {
     "name": "stdout",
     "output_type": "stream",
     "text": [
      "Calling: {'name': 'db_query_tool', 'args': {'query': 'SELECT e.FirstName, e.LastName, SUM(i.Total) as TotalSales FROM Employee e JOIN Customer c ON e.EmployeeId = c.SupportRepId JOIN Invoice i ON c.CustomerId = i.CustomerId GROUP BY e.EmployeeId ORDER BY TotalSales DESC LIMIT 5;'}, 'id': 'call_5eWftZXhzylyL5s4XMI11tps', 'type': 'tool_call'}\n"
     ]
    },
    {
     "data": {
      "text/markdown": [
       "The top 3 employees who have made the most sales are:\n",
       "\n",
       "1. Jane Peacock with total sales of 833.04.\n",
       "2. Margaret Park with total sales of 775.4.\n",
       "3. Steve Johnson with total sales of 720.16.\n",
       "\n",
       "It seems there are only three employees with recorded sales in the database."
      ],
      "text/plain": [
       "<IPython.core.display.Markdown object>"
      ]
     },
     "metadata": {},
     "output_type": "display_data"
    }
   ],
   "source": [
    "user_input = \"Who are the top 5 employees who have made the most sales?\"\n",
    "with root_span(tracer=tracer, name = \"SqlAgent-Notebook\" + \" - \" + user_input, agent=\"Azure SQL Agent\"):\n",
    "    result = sql_graph.invoke(\n",
    "        {\"messages\": [HumanMessage(content=user_input)]},\n",
    "        config=config\n",
    "    )\n",
    "display(Markdown(result['messages'][-1].content))\n",
    "# result['messages']"
   ]
  },
  {
   "cell_type": "code",
   "execution_count": null,
   "metadata": {},
   "outputs": [],
   "source": [
    "\n"
   ]
  }
 ],
 "metadata": {
  "kernelspec": {
   "display_name": "Python 3",
   "language": "python",
   "name": "python3"
  },
  "language_info": {
   "codemirror_mode": {
    "name": "ipython",
    "version": 3
   },
   "file_extension": ".py",
   "mimetype": "text/x-python",
   "name": "python",
   "nbconvert_exporter": "python",
   "pygments_lexer": "ipython3",
   "version": "3.11.11"
  }
 },
 "nbformat": 4,
 "nbformat_minor": 2
}
